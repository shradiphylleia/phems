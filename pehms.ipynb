{
 "cells": [
  {
   "cell_type": "code",
   "execution_count": 1,
   "metadata": {},
   "outputs": [],
   "source": [
    "import pandas as pd\n",
    "import os\n",
    "import seaborn as sns\n",
    "import matplotlib.pyplot as plt"
   ]
  },
  {
   "cell_type": "code",
   "execution_count": 2,
   "metadata": {},
   "outputs": [],
   "source": [
    "# now go in the directory and get the columns in each file to see how we going to be doing the join to get a single file\n",
    "# get files in the directory --> make the path to each file --> then try: learn about try catch and exception try must always have have an except, finally, or else clause.\n",
    "def get_col_name(dir_path):\n",
    "    files=os.listdir(dir_path)\n",
    "    for file in files:\n",
    "        file_path=os.path.join(dir_path,file)\n",
    "        try:\n",
    "            df=pd.read_csv(file_path)\n",
    "            print(file)\n",
    "            print(f\"Columns: {list(df.columns)}\")\n",
    "            print(\"shape:\",df.shape)\n",
    "            print(df.isnull().sum())\n",
    "            print(\"\\n\")\n",
    "        except Exception as e:\n",
    "            print(f\"Error reading file {file}: {e}\")\n"
   ]
  },
  {
   "cell_type": "code",
   "execution_count": 3,
   "metadata": {},
   "outputs": [
    {
     "name": "stdout",
     "output_type": "stream",
     "text": [
      "devices_train.csv\n",
      "Columns: ['visit_occurrence_id', 'device_datetime_hourly', 'person_id', 'device']\n",
      "shape: (750878, 4)\n",
      "visit_occurrence_id       0\n",
      "device_datetime_hourly    0\n",
      "person_id                 0\n",
      "device                    0\n",
      "dtype: int64\n",
      "\n",
      "\n",
      "drugsexposure_train.csv\n",
      "Columns: ['visit_occurrence_id', 'person_id', 'drug_datetime_hourly', 'drug_concept_id', 'route_concept_id']\n",
      "shape: (184780, 5)\n",
      "visit_occurrence_id      0\n",
      "person_id                0\n",
      "drug_datetime_hourly     0\n",
      "drug_concept_id          0\n",
      "route_concept_id        22\n",
      "dtype: int64\n",
      "\n",
      "\n",
      "measurement_lab_train.csv\n",
      "Columns: ['visit_occurrence_id', 'person_id', 'measurement_datetime', 'Base excess in Venous blood by calculation', 'Base excess in Arterial blood by calculation', 'Phosphate [Moles/volume] in Serum or Plasma', 'Potassium [Moles/volume] in Blood', 'Bilirubin.total [Moles/volume] in Serum or Plasma', 'Neutrophil Ab [Units/volume] in Serum', 'Bicarbonate [Moles/volume] in Arterial blood', 'Hematocrit [Volume Fraction] of Blood', 'Glucose [Moles/volume] in Serum or Plasma', 'Calcium [Moles/volume] in Serum or Plasma', 'Chloride [Moles/volume] in Blood', 'Sodium [Moles/volume] in Serum or Plasma', 'C reactive protein [Mass/volume] in Serum or Plasma', 'Carbon dioxide [Partial pressure] in Venous blood', 'Oxygen [Partial pressure] in Venous blood', 'Albumin [Mass/volume] in Serum or Plasma', 'Bicarbonate [Moles/volume] in Venous blood', 'Oxygen [Partial pressure] in Arterial blood', 'Carbon dioxide [Partial pressure] in Arterial blood', 'Interleukin 6 [Mass/volume] in Body fluid', 'Magnesium [Moles/volume] in Blood', 'Prothrombin time (PT)', 'Procalcitonin [Mass/volume] in Serum or Plasma', 'Lactate [Moles/volume] in Blood', 'Creatinine [Mass/volume] in Blood', 'Fibrinogen measurement', 'Bilirubin measurement', 'Partial thromboplastin time', ' activated', 'Total white blood count', 'Platelet count', 'White blood cell count', 'Blood venous pH', 'D-dimer level', 'Blood arterial pH', 'Hemoglobin [Moles/volume] in Blood', 'Ionised calcium measurement']\n",
      "shape: (69307, 40)\n",
      "visit_occurrence_id                                        0\n",
      "person_id                                                  0\n",
      "measurement_datetime                                       0\n",
      "Base excess in Venous blood by calculation             49882\n",
      "Base excess in Arterial blood by calculation           66760\n",
      "Phosphate [Moles/volume] in Serum or Plasma            59111\n",
      "Potassium [Moles/volume] in Blood                      37121\n",
      "Bilirubin.total [Moles/volume] in Serum or Plasma      54584\n",
      "Neutrophil Ab [Units/volume] in Serum                  44298\n",
      "Bicarbonate [Moles/volume] in Arterial blood           66760\n",
      "Hematocrit [Volume Fraction] of Blood                  41201\n",
      "Glucose [Moles/volume] in Serum or Plasma              52839\n",
      "Calcium [Moles/volume] in Serum or Plasma              60903\n",
      "Chloride [Moles/volume] in Blood                       36266\n",
      "Sodium [Moles/volume] in Serum or Plasma               36318\n",
      "C reactive protein [Mass/volume] in Serum or Plasma    46036\n",
      "Carbon dioxide [Partial pressure] in Venous blood      49880\n",
      "Oxygen [Partial pressure] in Venous blood              47535\n",
      "Albumin [Mass/volume] in Serum or Plasma               56555\n",
      "Bicarbonate [Moles/volume] in Venous blood             47498\n",
      "Oxygen [Partial pressure] in Arterial blood            66761\n",
      "Carbon dioxide [Partial pressure] in Arterial blood    66760\n",
      "Interleukin 6 [Mass/volume] in Body fluid              69246\n",
      "Magnesium [Moles/volume] in Blood                      57648\n",
      "Prothrombin time (PT)                                  61282\n",
      "Procalcitonin [Mass/volume] in Serum or Plasma         56415\n",
      "Lactate [Moles/volume] in Blood                        48999\n",
      "Creatinine [Mass/volume] in Blood                      43054\n",
      "Fibrinogen measurement                                 61336\n",
      "Bilirubin measurement                                  57808\n",
      "Partial thromboplastin time                            61333\n",
      " activated                                             44146\n",
      "Total white blood count                                44204\n",
      "Platelet count                                         62770\n",
      "White blood cell count                                 47280\n",
      "Blood venous pH                                        68937\n",
      "D-dimer level                                          66756\n",
      "Blood arterial pH                                      41830\n",
      "Hemoglobin [Moles/volume] in Blood                     44215\n",
      "Ionised calcium measurement                            69307\n",
      "dtype: int64\n",
      "\n",
      "\n",
      "measurement_meds_train.csv\n",
      "Columns: ['visit_occurrence_id', 'person_id', 'measurement_datetime', 'Systolic blood pressure', 'Diastolic blood pressure', 'Body temperature', 'Respiratory rate', 'Heart rate', 'Measurement of oxygen saturation at periphery', 'Oxygen/Gas total [Pure volume fraction] Inhaled gas']\n",
      "shape: (257749, 10)\n",
      "visit_occurrence_id                                         0\n",
      "person_id                                                   0\n",
      "measurement_datetime                                        0\n",
      "Systolic blood pressure                                217654\n",
      "Diastolic blood pressure                               217667\n",
      "Body temperature                                        53613\n",
      "Respiratory rate                                       174445\n",
      "Heart rate                                             160776\n",
      "Measurement of oxygen saturation at periphery          160932\n",
      "Oxygen/Gas total [Pure volume fraction] Inhaled gas    255702\n",
      "dtype: int64\n",
      "\n",
      "\n",
      "measurement_observation_train.csv\n",
      "Columns: ['visit_occurrence_id', 'person_id', 'measurement_datetime', 'Left pupil Diameter Auto', 'Right pupil Diameter Auto', 'Glasgow coma scale', 'Capillary refill [Time]', 'Pulse', 'Arterial pulse pressure', 'Right pupil Pupillary response', 'Left pupil Pupillary response']\n",
      "shape: (50553, 11)\n",
      "visit_occurrence_id                   0\n",
      "person_id                             0\n",
      "measurement_datetime                  0\n",
      "Left pupil Diameter Auto          20594\n",
      "Right pupil Diameter Auto         20485\n",
      "Glasgow coma scale                15448\n",
      "Capillary refill [Time]           45150\n",
      "Pulse                             45879\n",
      "Arterial pulse pressure           45607\n",
      "Right pupil Pupillary response    16666\n",
      "Left pupil Pupillary response     16711\n",
      "dtype: int64\n",
      "\n",
      "\n",
      "observation_train.csv\n",
      "Columns: ['visit_occurrence_id', 'person_id', 'observation_datetime', 'observation_concept_id', 'observation_concept_name', 'valuefilled']\n",
      "shape: (3807, 6)\n",
      "visit_occurrence_id         0\n",
      "person_id                   0\n",
      "observation_datetime        0\n",
      "observation_concept_id      0\n",
      "observation_concept_name    0\n",
      "valuefilled                 0\n",
      "dtype: int64\n",
      "\n",
      "\n",
      "person_demographics_episode_train.csv\n",
      "Columns: ['visit_occurrence_id', 'person_id', 'visit_start_date', 'birth_datetime', 'age_in_months', 'gender']\n",
      "shape: (3391, 6)\n",
      "visit_occurrence_id    0\n",
      "person_id              0\n",
      "visit_start_date       0\n",
      "birth_datetime         0\n",
      "age_in_months          0\n",
      "gender                 0\n",
      "dtype: int64\n",
      "\n",
      "\n",
      "proceduresoccurrences_train.csv\n",
      "Columns: ['visit_occurrence_id', 'procedure_datetime_hourly', 'person_id', 'procedure']\n",
      "shape: (771214, 4)\n",
      "visit_occurrence_id          0\n",
      "procedure_datetime_hourly    0\n",
      "person_id                    0\n",
      "procedure                    0\n",
      "dtype: int64\n",
      "\n",
      "\n",
      "SepsisLabel_train.csv\n",
      "Columns: ['person_id', 'measurement_datetime', 'SepsisLabel']\n",
      "shape: (331653, 3)\n",
      "person_id                0\n",
      "measurement_datetime    16\n",
      "SepsisLabel              0\n",
      "dtype: int64\n",
      "\n",
      "\n"
     ]
    }
   ],
   "source": [
    "get_col_name(\"./data/training_data\")"
   ]
  },
  {
   "cell_type": "code",
   "execution_count": 4,
   "metadata": {},
   "outputs": [],
   "source": [
    "measurement_lab_train=pd.read_csv(\"data/training_data/measurement_lab_train.csv\")\n",
    "measurement_meds_train=pd.read_csv(\"data/training_data/measurement_meds_train.csv\")\n",
    "measurement_observation_train=pd.read_csv(\"data/training_data/measurement_observation_train.csv\")"
   ]
  },
  {
   "cell_type": "code",
   "execution_count": 5,
   "metadata": {},
   "outputs": [],
   "source": [
    "df_preprocess=[measurement_lab_train, measurement_meds_train, measurement_observation_train]\n",
    "#  this was dumb i need to get the path though, like ??"
   ]
  },
  {
   "cell_type": "code",
   "execution_count": 6,
   "metadata": {},
   "outputs": [],
   "source": [
    "def clean(dataarray):\n",
    "    for df in dataarray:\n",
    "        for col in df.columns:\n",
    "            threshold=df.shape[0]* 0.5\n",
    "            print(threshold)\n",
    "            # now drop columns which exceed this threshold\n",
    "            if df[col].isnull().sum() > threshold:\n",
    "                df.drop(col, axis=1, inplace=True)"
   ]
  },
  {
   "cell_type": "code",
   "execution_count": 7,
   "metadata": {},
   "outputs": [
    {
     "name": "stdout",
     "output_type": "stream",
     "text": [
      "34653.5\n",
      "34653.5\n",
      "34653.5\n",
      "34653.5\n",
      "34653.5\n",
      "34653.5\n",
      "34653.5\n",
      "34653.5\n",
      "34653.5\n",
      "34653.5\n",
      "34653.5\n",
      "34653.5\n",
      "34653.5\n",
      "34653.5\n",
      "34653.5\n",
      "34653.5\n",
      "34653.5\n",
      "34653.5\n",
      "34653.5\n",
      "34653.5\n",
      "34653.5\n",
      "34653.5\n",
      "34653.5\n",
      "34653.5\n",
      "34653.5\n",
      "34653.5\n",
      "34653.5\n",
      "34653.5\n",
      "34653.5\n",
      "34653.5\n",
      "34653.5\n",
      "34653.5\n",
      "34653.5\n",
      "34653.5\n",
      "34653.5\n",
      "34653.5\n",
      "34653.5\n",
      "34653.5\n",
      "34653.5\n",
      "34653.5\n",
      "128874.5\n",
      "128874.5\n",
      "128874.5\n",
      "128874.5\n",
      "128874.5\n",
      "128874.5\n",
      "128874.5\n",
      "128874.5\n",
      "128874.5\n",
      "128874.5\n",
      "25276.5\n",
      "25276.5\n",
      "25276.5\n",
      "25276.5\n",
      "25276.5\n",
      "25276.5\n",
      "25276.5\n",
      "25276.5\n",
      "25276.5\n",
      "25276.5\n",
      "25276.5\n"
     ]
    }
   ],
   "source": [
    "data=clean(df_preprocess)"
   ]
  },
  {
   "cell_type": "code",
   "execution_count": 8,
   "metadata": {},
   "outputs": [
    {
     "data": {
      "text/plain": [
       "visit_occurrence_id     0\n",
       "person_id               0\n",
       "measurement_datetime    0\n",
       "dtype: int64"
      ]
     },
     "execution_count": 8,
     "metadata": {},
     "output_type": "execute_result"
    }
   ],
   "source": [
    "measurement_lab_train.isnull().sum()"
   ]
  },
  {
   "cell_type": "code",
   "execution_count": 9,
   "metadata": {},
   "outputs": [
    {
     "data": {
      "text/plain": [
       "(69307, 3)"
      ]
     },
     "execution_count": 9,
     "metadata": {},
     "output_type": "execute_result"
    }
   ],
   "source": [
    "measurement_lab_train.shape"
   ]
  },
  {
   "cell_type": "code",
   "execution_count": 10,
   "metadata": {},
   "outputs": [
    {
     "data": {
      "text/plain": [
       "Index(['visit_occurrence_id', 'person_id', 'measurement_datetime'], dtype='object')"
      ]
     },
     "execution_count": 10,
     "metadata": {},
     "output_type": "execute_result"
    }
   ],
   "source": [
    "measurement_lab_train.columns"
   ]
  },
  {
   "cell_type": "code",
   "execution_count": 11,
   "metadata": {},
   "outputs": [
    {
     "data": {
      "text/plain": [
       "visit_occurrence_id         0\n",
       "person_id                   0\n",
       "measurement_datetime        0\n",
       "Body temperature        53613\n",
       "dtype: int64"
      ]
     },
     "execution_count": 11,
     "metadata": {},
     "output_type": "execute_result"
    }
   ],
   "source": [
    "measurement_meds_train.isnull().sum()"
   ]
  },
  {
   "cell_type": "code",
   "execution_count": 12,
   "metadata": {},
   "outputs": [
    {
     "data": {
      "text/plain": [
       "visit_occurrence_id                   0\n",
       "person_id                             0\n",
       "measurement_datetime                  0\n",
       "Left pupil Diameter Auto          20594\n",
       "Right pupil Diameter Auto         20485\n",
       "Glasgow coma scale                15448\n",
       "Right pupil Pupillary response    16666\n",
       "Left pupil Pupillary response     16711\n",
       "dtype: int64"
      ]
     },
     "execution_count": 12,
     "metadata": {},
     "output_type": "execute_result"
    }
   ],
   "source": [
    "measurement_observation_train.isnull().sum()"
   ]
  },
  {
   "cell_type": "markdown",
   "metadata": {},
   "source": [
    "done as of now\n",
    "1. cleaned for null value columns greater than threshold\n",
    "\n",
    "to do\n",
    "1. empty but needs work\n",
    "2. merging now\n",
    "3. check class imbalance               |   feature engineering  |\n",
    "4. identify relations                  |       pca              |\n",
    "4. then standardize and normalize\n",
    "5. model"
   ]
  },
  {
   "cell_type": "code",
   "execution_count": 13,
   "metadata": {},
   "outputs": [
    {
     "name": "stdout",
     "output_type": "stream",
     "text": [
      "Index(['visit_occurrence_id', 'person_id', 'measurement_datetime'], dtype='object')\n",
      "Index(['visit_occurrence_id', 'person_id', 'measurement_datetime',\n",
      "       'Body temperature'],\n",
      "      dtype='object')\n",
      "Index(['visit_occurrence_id', 'person_id', 'measurement_datetime',\n",
      "       'Left pupil Diameter Auto', 'Right pupil Diameter Auto',\n",
      "       'Glasgow coma scale', 'Right pupil Pupillary response',\n",
      "       'Left pupil Pupillary response'],\n",
      "      dtype='object')\n"
     ]
    }
   ],
   "source": [
    "for df in df_preprocess:\n",
    "    print(df.columns)"
   ]
  },
  {
   "cell_type": "code",
   "execution_count": 14,
   "metadata": {},
   "outputs": [
    {
     "name": "stdout",
     "output_type": "stream",
     "text": [
      "(69307, 3)\n",
      "(257749, 4)\n",
      "(50553, 8)\n"
     ]
    }
   ],
   "source": [
    "print(measurement_lab_train.shape)\n",
    "print(measurement_meds_train.shape)\n",
    "print(measurement_observation_train.shape)"
   ]
  },
  {
   "cell_type": "code",
   "execution_count": 15,
   "metadata": {},
   "outputs": [],
   "source": [
    "df=pd.merge(measurement_lab_train,measurement_meds_train, on=['measurement_datetime','person_id'])"
   ]
  },
  {
   "cell_type": "code",
   "execution_count": 16,
   "metadata": {},
   "outputs": [
    {
     "data": {
      "text/plain": [
       "(21086, 5)"
      ]
     },
     "execution_count": 16,
     "metadata": {},
     "output_type": "execute_result"
    }
   ],
   "source": [
    "df.shape"
   ]
  },
  {
   "cell_type": "code",
   "execution_count": 17,
   "metadata": {},
   "outputs": [
    {
     "data": {
      "text/html": [
       "<div>\n",
       "<style scoped>\n",
       "    .dataframe tbody tr th:only-of-type {\n",
       "        vertical-align: middle;\n",
       "    }\n",
       "\n",
       "    .dataframe tbody tr th {\n",
       "        vertical-align: top;\n",
       "    }\n",
       "\n",
       "    .dataframe thead th {\n",
       "        text-align: right;\n",
       "    }\n",
       "</style>\n",
       "<table border=\"1\" class=\"dataframe\">\n",
       "  <thead>\n",
       "    <tr style=\"text-align: right;\">\n",
       "      <th></th>\n",
       "      <th>visit_occurrence_id_x</th>\n",
       "      <th>person_id</th>\n",
       "      <th>measurement_datetime</th>\n",
       "      <th>visit_occurrence_id_y</th>\n",
       "      <th>Body temperature</th>\n",
       "    </tr>\n",
       "  </thead>\n",
       "  <tbody>\n",
       "    <tr>\n",
       "      <th>0</th>\n",
       "      <td>933758</td>\n",
       "      <td>523870286</td>\n",
       "      <td>2023-12-08 23:00:00</td>\n",
       "      <td>933758</td>\n",
       "      <td>NaN</td>\n",
       "    </tr>\n",
       "    <tr>\n",
       "      <th>1</th>\n",
       "      <td>2322668</td>\n",
       "      <td>1553934216</td>\n",
       "      <td>2024-10-17 16:00:00</td>\n",
       "      <td>2322668</td>\n",
       "      <td>36.40</td>\n",
       "    </tr>\n",
       "    <tr>\n",
       "      <th>2</th>\n",
       "      <td>2322668</td>\n",
       "      <td>1553934216</td>\n",
       "      <td>2024-10-17 17:00:00</td>\n",
       "      <td>2322668</td>\n",
       "      <td>36.10</td>\n",
       "    </tr>\n",
       "    <tr>\n",
       "      <th>3</th>\n",
       "      <td>2322668</td>\n",
       "      <td>1553934216</td>\n",
       "      <td>2024-10-18 07:00:00</td>\n",
       "      <td>2322668</td>\n",
       "      <td>36.10</td>\n",
       "    </tr>\n",
       "    <tr>\n",
       "      <th>4</th>\n",
       "      <td>2322668</td>\n",
       "      <td>1553934216</td>\n",
       "      <td>2024-10-18 08:00:00</td>\n",
       "      <td>2322668</td>\n",
       "      <td>NaN</td>\n",
       "    </tr>\n",
       "    <tr>\n",
       "      <th>5</th>\n",
       "      <td>2512220</td>\n",
       "      <td>1938267364</td>\n",
       "      <td>2024-09-19 03:00:00</td>\n",
       "      <td>2512220</td>\n",
       "      <td>37.00</td>\n",
       "    </tr>\n",
       "    <tr>\n",
       "      <th>6</th>\n",
       "      <td>2512220</td>\n",
       "      <td>1938267364</td>\n",
       "      <td>2024-09-19 05:00:00</td>\n",
       "      <td>2512220</td>\n",
       "      <td>36.50</td>\n",
       "    </tr>\n",
       "    <tr>\n",
       "      <th>7</th>\n",
       "      <td>2512220</td>\n",
       "      <td>1938267364</td>\n",
       "      <td>2024-09-19 06:00:00</td>\n",
       "      <td>2512220</td>\n",
       "      <td>NaN</td>\n",
       "    </tr>\n",
       "    <tr>\n",
       "      <th>8</th>\n",
       "      <td>2512220</td>\n",
       "      <td>1938267364</td>\n",
       "      <td>2024-09-19 08:00:00</td>\n",
       "      <td>2512220</td>\n",
       "      <td>NaN</td>\n",
       "    </tr>\n",
       "    <tr>\n",
       "      <th>9</th>\n",
       "      <td>2512220</td>\n",
       "      <td>1938267364</td>\n",
       "      <td>2024-09-19 12:00:00</td>\n",
       "      <td>2512220</td>\n",
       "      <td>NaN</td>\n",
       "    </tr>\n",
       "    <tr>\n",
       "      <th>10</th>\n",
       "      <td>2512220</td>\n",
       "      <td>1938267364</td>\n",
       "      <td>2024-09-19 15:00:00</td>\n",
       "      <td>2512220</td>\n",
       "      <td>NaN</td>\n",
       "    </tr>\n",
       "    <tr>\n",
       "      <th>11</th>\n",
       "      <td>2512220</td>\n",
       "      <td>1938267364</td>\n",
       "      <td>2024-09-19 16:00:00</td>\n",
       "      <td>2512220</td>\n",
       "      <td>35.85</td>\n",
       "    </tr>\n",
       "    <tr>\n",
       "      <th>12</th>\n",
       "      <td>2512220</td>\n",
       "      <td>1938267364</td>\n",
       "      <td>2024-09-20 07:00:00</td>\n",
       "      <td>2512220</td>\n",
       "      <td>37.30</td>\n",
       "    </tr>\n",
       "    <tr>\n",
       "      <th>13</th>\n",
       "      <td>2512220</td>\n",
       "      <td>1938267364</td>\n",
       "      <td>2024-09-20 08:00:00</td>\n",
       "      <td>2512220</td>\n",
       "      <td>NaN</td>\n",
       "    </tr>\n",
       "    <tr>\n",
       "      <th>14</th>\n",
       "      <td>2512220</td>\n",
       "      <td>1938267364</td>\n",
       "      <td>2024-09-20 09:00:00</td>\n",
       "      <td>2512220</td>\n",
       "      <td>36.60</td>\n",
       "    </tr>\n",
       "    <tr>\n",
       "      <th>15</th>\n",
       "      <td>2512220</td>\n",
       "      <td>1938267364</td>\n",
       "      <td>2024-09-20 11:00:00</td>\n",
       "      <td>2512220</td>\n",
       "      <td>35.70</td>\n",
       "    </tr>\n",
       "    <tr>\n",
       "      <th>16</th>\n",
       "      <td>2512220</td>\n",
       "      <td>1938267364</td>\n",
       "      <td>2024-09-20 23:00:00</td>\n",
       "      <td>2512220</td>\n",
       "      <td>36.30</td>\n",
       "    </tr>\n",
       "    <tr>\n",
       "      <th>17</th>\n",
       "      <td>2512220</td>\n",
       "      <td>1938267364</td>\n",
       "      <td>2024-09-21 05:00:00</td>\n",
       "      <td>2512220</td>\n",
       "      <td>36.30</td>\n",
       "    </tr>\n",
       "    <tr>\n",
       "      <th>18</th>\n",
       "      <td>2512220</td>\n",
       "      <td>1938267364</td>\n",
       "      <td>2024-09-21 06:00:00</td>\n",
       "      <td>2512220</td>\n",
       "      <td>NaN</td>\n",
       "    </tr>\n",
       "    <tr>\n",
       "      <th>19</th>\n",
       "      <td>2512220</td>\n",
       "      <td>1938267364</td>\n",
       "      <td>2024-09-21 07:00:00</td>\n",
       "      <td>2512220</td>\n",
       "      <td>37.20</td>\n",
       "    </tr>\n",
       "  </tbody>\n",
       "</table>\n",
       "</div>"
      ],
      "text/plain": [
       "    visit_occurrence_id_x   person_id measurement_datetime  \\\n",
       "0                  933758   523870286  2023-12-08 23:00:00   \n",
       "1                 2322668  1553934216  2024-10-17 16:00:00   \n",
       "2                 2322668  1553934216  2024-10-17 17:00:00   \n",
       "3                 2322668  1553934216  2024-10-18 07:00:00   \n",
       "4                 2322668  1553934216  2024-10-18 08:00:00   \n",
       "5                 2512220  1938267364  2024-09-19 03:00:00   \n",
       "6                 2512220  1938267364  2024-09-19 05:00:00   \n",
       "7                 2512220  1938267364  2024-09-19 06:00:00   \n",
       "8                 2512220  1938267364  2024-09-19 08:00:00   \n",
       "9                 2512220  1938267364  2024-09-19 12:00:00   \n",
       "10                2512220  1938267364  2024-09-19 15:00:00   \n",
       "11                2512220  1938267364  2024-09-19 16:00:00   \n",
       "12                2512220  1938267364  2024-09-20 07:00:00   \n",
       "13                2512220  1938267364  2024-09-20 08:00:00   \n",
       "14                2512220  1938267364  2024-09-20 09:00:00   \n",
       "15                2512220  1938267364  2024-09-20 11:00:00   \n",
       "16                2512220  1938267364  2024-09-20 23:00:00   \n",
       "17                2512220  1938267364  2024-09-21 05:00:00   \n",
       "18                2512220  1938267364  2024-09-21 06:00:00   \n",
       "19                2512220  1938267364  2024-09-21 07:00:00   \n",
       "\n",
       "    visit_occurrence_id_y  Body temperature  \n",
       "0                  933758               NaN  \n",
       "1                 2322668             36.40  \n",
       "2                 2322668             36.10  \n",
       "3                 2322668             36.10  \n",
       "4                 2322668               NaN  \n",
       "5                 2512220             37.00  \n",
       "6                 2512220             36.50  \n",
       "7                 2512220               NaN  \n",
       "8                 2512220               NaN  \n",
       "9                 2512220               NaN  \n",
       "10                2512220               NaN  \n",
       "11                2512220             35.85  \n",
       "12                2512220             37.30  \n",
       "13                2512220               NaN  \n",
       "14                2512220             36.60  \n",
       "15                2512220             35.70  \n",
       "16                2512220             36.30  \n",
       "17                2512220             36.30  \n",
       "18                2512220               NaN  \n",
       "19                2512220             37.20  "
      ]
     },
     "execution_count": 17,
     "metadata": {},
     "output_type": "execute_result"
    }
   ],
   "source": [
    "df.head(20)"
   ]
  },
  {
   "cell_type": "code",
   "execution_count": 18,
   "metadata": {},
   "outputs": [
    {
     "data": {
      "text/plain": [
       "visit_occurrence_id_x       0\n",
       "person_id                   0\n",
       "measurement_datetime        0\n",
       "visit_occurrence_id_y       0\n",
       "Body temperature         2815\n",
       "dtype: int64"
      ]
     },
     "execution_count": 18,
     "metadata": {},
     "output_type": "execute_result"
    }
   ],
   "source": [
    "df.isnull().sum()"
   ]
  },
  {
   "cell_type": "code",
   "execution_count": 19,
   "metadata": {},
   "outputs": [],
   "source": [
    "df=pd.merge(df,measurement_observation_train,on=['measurement_datetime','person_id'])"
   ]
  },
  {
   "cell_type": "code",
   "execution_count": 20,
   "metadata": {},
   "outputs": [
    {
     "data": {
      "text/plain": [
       "(4146, 11)"
      ]
     },
     "execution_count": 20,
     "metadata": {},
     "output_type": "execute_result"
    }
   ],
   "source": [
    "df.shape"
   ]
  },
  {
   "cell_type": "code",
   "execution_count": 21,
   "metadata": {},
   "outputs": [
    {
     "data": {
      "text/plain": [
       "visit_occurrence_id_x                0\n",
       "person_id                            0\n",
       "measurement_datetime                 0\n",
       "visit_occurrence_id_y                0\n",
       "Body temperature                   410\n",
       "visit_occurrence_id                  0\n",
       "Left pupil Diameter Auto          1389\n",
       "Right pupil Diameter Auto         1377\n",
       "Glasgow coma scale                1830\n",
       "Right pupil Pupillary response    1202\n",
       "Left pupil Pupillary response     1216\n",
       "dtype: int64"
      ]
     },
     "execution_count": 21,
     "metadata": {},
     "output_type": "execute_result"
    }
   ],
   "source": [
    "df.isnull().sum()"
   ]
  },
  {
   "cell_type": "code",
   "execution_count": 22,
   "metadata": {},
   "outputs": [
    {
     "data": {
      "text/html": [
       "<div>\n",
       "<style scoped>\n",
       "    .dataframe tbody tr th:only-of-type {\n",
       "        vertical-align: middle;\n",
       "    }\n",
       "\n",
       "    .dataframe tbody tr th {\n",
       "        vertical-align: top;\n",
       "    }\n",
       "\n",
       "    .dataframe thead th {\n",
       "        text-align: right;\n",
       "    }\n",
       "</style>\n",
       "<table border=\"1\" class=\"dataframe\">\n",
       "  <thead>\n",
       "    <tr style=\"text-align: right;\">\n",
       "      <th></th>\n",
       "      <th>visit_occurrence_id_x</th>\n",
       "      <th>person_id</th>\n",
       "      <th>measurement_datetime</th>\n",
       "      <th>visit_occurrence_id_y</th>\n",
       "      <th>Body temperature</th>\n",
       "      <th>visit_occurrence_id</th>\n",
       "      <th>Left pupil Diameter Auto</th>\n",
       "      <th>Right pupil Diameter Auto</th>\n",
       "      <th>Glasgow coma scale</th>\n",
       "      <th>Right pupil Pupillary response</th>\n",
       "      <th>Left pupil Pupillary response</th>\n",
       "    </tr>\n",
       "  </thead>\n",
       "  <tbody>\n",
       "    <tr>\n",
       "      <th>0</th>\n",
       "      <td>2322668</td>\n",
       "      <td>1553934216</td>\n",
       "      <td>2024-10-17 16:00:00</td>\n",
       "      <td>2322668</td>\n",
       "      <td>36.4</td>\n",
       "      <td>2322668</td>\n",
       "      <td>2.0</td>\n",
       "      <td>2.0</td>\n",
       "      <td>11.0</td>\n",
       "      <td>Normal</td>\n",
       "      <td>Normal</td>\n",
       "    </tr>\n",
       "    <tr>\n",
       "      <th>1</th>\n",
       "      <td>2512220</td>\n",
       "      <td>1938267364</td>\n",
       "      <td>2024-09-19 05:00:00</td>\n",
       "      <td>2512220</td>\n",
       "      <td>36.5</td>\n",
       "      <td>2512220</td>\n",
       "      <td>NaN</td>\n",
       "      <td>NaN</td>\n",
       "      <td>15.0</td>\n",
       "      <td>NaN</td>\n",
       "      <td>NaN</td>\n",
       "    </tr>\n",
       "    <tr>\n",
       "      <th>2</th>\n",
       "      <td>2512220</td>\n",
       "      <td>1938267364</td>\n",
       "      <td>2024-09-19 06:00:00</td>\n",
       "      <td>2512220</td>\n",
       "      <td>NaN</td>\n",
       "      <td>2512220</td>\n",
       "      <td>2.0</td>\n",
       "      <td>2.0</td>\n",
       "      <td>13.0</td>\n",
       "      <td>Normal</td>\n",
       "      <td>Normal</td>\n",
       "    </tr>\n",
       "    <tr>\n",
       "      <th>3</th>\n",
       "      <td>2512220</td>\n",
       "      <td>1938267364</td>\n",
       "      <td>2024-09-20 07:00:00</td>\n",
       "      <td>2512220</td>\n",
       "      <td>37.3</td>\n",
       "      <td>2512220</td>\n",
       "      <td>3.0</td>\n",
       "      <td>3.0</td>\n",
       "      <td>5.0</td>\n",
       "      <td>Sluggish</td>\n",
       "      <td>Sluggish</td>\n",
       "    </tr>\n",
       "    <tr>\n",
       "      <th>4</th>\n",
       "      <td>2512220</td>\n",
       "      <td>1938267364</td>\n",
       "      <td>2024-09-21 05:00:00</td>\n",
       "      <td>2512220</td>\n",
       "      <td>36.3</td>\n",
       "      <td>2512220</td>\n",
       "      <td>2.0</td>\n",
       "      <td>2.0</td>\n",
       "      <td>5.0</td>\n",
       "      <td>Sluggish</td>\n",
       "      <td>Sluggish</td>\n",
       "    </tr>\n",
       "    <tr>\n",
       "      <th>5</th>\n",
       "      <td>2512220</td>\n",
       "      <td>1938267364</td>\n",
       "      <td>2024-09-25 07:00:00</td>\n",
       "      <td>2512220</td>\n",
       "      <td>36.1</td>\n",
       "      <td>2512220</td>\n",
       "      <td>2.0</td>\n",
       "      <td>2.0</td>\n",
       "      <td>5.0</td>\n",
       "      <td>Sluggish</td>\n",
       "      <td>Sluggish</td>\n",
       "    </tr>\n",
       "    <tr>\n",
       "      <th>6</th>\n",
       "      <td>2512220</td>\n",
       "      <td>1938267364</td>\n",
       "      <td>2024-09-26 07:00:00</td>\n",
       "      <td>2512220</td>\n",
       "      <td>35.7</td>\n",
       "      <td>2512220</td>\n",
       "      <td>2.0</td>\n",
       "      <td>2.0</td>\n",
       "      <td>5.0</td>\n",
       "      <td>Sluggish</td>\n",
       "      <td>Sluggish</td>\n",
       "    </tr>\n",
       "    <tr>\n",
       "      <th>7</th>\n",
       "      <td>2512220</td>\n",
       "      <td>1938267364</td>\n",
       "      <td>2024-09-30 07:00:00</td>\n",
       "      <td>2512220</td>\n",
       "      <td>36.6</td>\n",
       "      <td>2512220</td>\n",
       "      <td>2.0</td>\n",
       "      <td>2.0</td>\n",
       "      <td>NaN</td>\n",
       "      <td>Sluggish</td>\n",
       "      <td>Sluggish</td>\n",
       "    </tr>\n",
       "    <tr>\n",
       "      <th>8</th>\n",
       "      <td>2512220</td>\n",
       "      <td>1938267364</td>\n",
       "      <td>2024-09-30 21:00:00</td>\n",
       "      <td>2512220</td>\n",
       "      <td>37.4</td>\n",
       "      <td>2512220</td>\n",
       "      <td>3.0</td>\n",
       "      <td>3.0</td>\n",
       "      <td>13.0</td>\n",
       "      <td>Normal</td>\n",
       "      <td>Normal</td>\n",
       "    </tr>\n",
       "    <tr>\n",
       "      <th>9</th>\n",
       "      <td>3586050</td>\n",
       "      <td>1523648500</td>\n",
       "      <td>2023-12-16 06:00:00</td>\n",
       "      <td>3586050</td>\n",
       "      <td>NaN</td>\n",
       "      <td>3586050</td>\n",
       "      <td>1.0</td>\n",
       "      <td>1.0</td>\n",
       "      <td>NaN</td>\n",
       "      <td>Sluggish</td>\n",
       "      <td>Sluggish</td>\n",
       "    </tr>\n",
       "    <tr>\n",
       "      <th>10</th>\n",
       "      <td>3586050</td>\n",
       "      <td>1523648500</td>\n",
       "      <td>2023-12-16 18:00:00</td>\n",
       "      <td>3586050</td>\n",
       "      <td>NaN</td>\n",
       "      <td>3586050</td>\n",
       "      <td>2.0</td>\n",
       "      <td>2.0</td>\n",
       "      <td>NaN</td>\n",
       "      <td>Normal</td>\n",
       "      <td>Normal</td>\n",
       "    </tr>\n",
       "    <tr>\n",
       "      <th>11</th>\n",
       "      <td>3586050</td>\n",
       "      <td>1523648500</td>\n",
       "      <td>2023-12-18 13:00:00</td>\n",
       "      <td>3586050</td>\n",
       "      <td>37.1</td>\n",
       "      <td>3586050</td>\n",
       "      <td>2.5</td>\n",
       "      <td>2.5</td>\n",
       "      <td>3.0</td>\n",
       "      <td>Sluggish</td>\n",
       "      <td>Sluggish</td>\n",
       "    </tr>\n",
       "    <tr>\n",
       "      <th>12</th>\n",
       "      <td>3586050</td>\n",
       "      <td>1523648500</td>\n",
       "      <td>2023-12-19 14:00:00</td>\n",
       "      <td>3586050</td>\n",
       "      <td>NaN</td>\n",
       "      <td>3586050</td>\n",
       "      <td>2.5</td>\n",
       "      <td>2.5</td>\n",
       "      <td>NaN</td>\n",
       "      <td>Sluggish</td>\n",
       "      <td>Sluggish</td>\n",
       "    </tr>\n",
       "    <tr>\n",
       "      <th>13</th>\n",
       "      <td>3586050</td>\n",
       "      <td>1523648500</td>\n",
       "      <td>2023-12-20 21:00:00</td>\n",
       "      <td>3586050</td>\n",
       "      <td>36.3</td>\n",
       "      <td>3586050</td>\n",
       "      <td>NaN</td>\n",
       "      <td>NaN</td>\n",
       "      <td>NaN</td>\n",
       "      <td>Sluggish</td>\n",
       "      <td>Sluggish</td>\n",
       "    </tr>\n",
       "    <tr>\n",
       "      <th>14</th>\n",
       "      <td>3586050</td>\n",
       "      <td>1523648500</td>\n",
       "      <td>2023-12-22 05:00:00</td>\n",
       "      <td>3586050</td>\n",
       "      <td>36.3</td>\n",
       "      <td>3586050</td>\n",
       "      <td>2.5</td>\n",
       "      <td>2.5</td>\n",
       "      <td>4.0</td>\n",
       "      <td>Normal</td>\n",
       "      <td>Normal</td>\n",
       "    </tr>\n",
       "    <tr>\n",
       "      <th>15</th>\n",
       "      <td>4692128</td>\n",
       "      <td>1822511629</td>\n",
       "      <td>2022-11-30 09:00:00</td>\n",
       "      <td>4692128</td>\n",
       "      <td>37.4</td>\n",
       "      <td>4692128</td>\n",
       "      <td>2.5</td>\n",
       "      <td>2.5</td>\n",
       "      <td>15.0</td>\n",
       "      <td>Normal</td>\n",
       "      <td>Normal</td>\n",
       "    </tr>\n",
       "    <tr>\n",
       "      <th>16</th>\n",
       "      <td>8360514</td>\n",
       "      <td>346741516</td>\n",
       "      <td>2020-12-07 14:00:00</td>\n",
       "      <td>8360514</td>\n",
       "      <td>36.9</td>\n",
       "      <td>8360514</td>\n",
       "      <td>4.0</td>\n",
       "      <td>4.0</td>\n",
       "      <td>NaN</td>\n",
       "      <td>Normal</td>\n",
       "      <td>Normal</td>\n",
       "    </tr>\n",
       "    <tr>\n",
       "      <th>17</th>\n",
       "      <td>8402278</td>\n",
       "      <td>1643629975</td>\n",
       "      <td>2022-12-27 01:00:00</td>\n",
       "      <td>8402278</td>\n",
       "      <td>36.8</td>\n",
       "      <td>8402278</td>\n",
       "      <td>3.0</td>\n",
       "      <td>3.0</td>\n",
       "      <td>12.0</td>\n",
       "      <td>Sluggish</td>\n",
       "      <td>Sluggish</td>\n",
       "    </tr>\n",
       "    <tr>\n",
       "      <th>18</th>\n",
       "      <td>9157420</td>\n",
       "      <td>1736140874</td>\n",
       "      <td>2020-01-11 15:00:00</td>\n",
       "      <td>9157420</td>\n",
       "      <td>35.3</td>\n",
       "      <td>9157420</td>\n",
       "      <td>3.0</td>\n",
       "      <td>3.0</td>\n",
       "      <td>15.0</td>\n",
       "      <td>Normal</td>\n",
       "      <td>Normal</td>\n",
       "    </tr>\n",
       "    <tr>\n",
       "      <th>19</th>\n",
       "      <td>11020774</td>\n",
       "      <td>111287879</td>\n",
       "      <td>2019-12-23 13:00:00</td>\n",
       "      <td>11020774</td>\n",
       "      <td>35.4</td>\n",
       "      <td>11020774</td>\n",
       "      <td>2.0</td>\n",
       "      <td>2.0</td>\n",
       "      <td>NaN</td>\n",
       "      <td>Normal</td>\n",
       "      <td>Normal</td>\n",
       "    </tr>\n",
       "  </tbody>\n",
       "</table>\n",
       "</div>"
      ],
      "text/plain": [
       "    visit_occurrence_id_x   person_id measurement_datetime  \\\n",
       "0                 2322668  1553934216  2024-10-17 16:00:00   \n",
       "1                 2512220  1938267364  2024-09-19 05:00:00   \n",
       "2                 2512220  1938267364  2024-09-19 06:00:00   \n",
       "3                 2512220  1938267364  2024-09-20 07:00:00   \n",
       "4                 2512220  1938267364  2024-09-21 05:00:00   \n",
       "5                 2512220  1938267364  2024-09-25 07:00:00   \n",
       "6                 2512220  1938267364  2024-09-26 07:00:00   \n",
       "7                 2512220  1938267364  2024-09-30 07:00:00   \n",
       "8                 2512220  1938267364  2024-09-30 21:00:00   \n",
       "9                 3586050  1523648500  2023-12-16 06:00:00   \n",
       "10                3586050  1523648500  2023-12-16 18:00:00   \n",
       "11                3586050  1523648500  2023-12-18 13:00:00   \n",
       "12                3586050  1523648500  2023-12-19 14:00:00   \n",
       "13                3586050  1523648500  2023-12-20 21:00:00   \n",
       "14                3586050  1523648500  2023-12-22 05:00:00   \n",
       "15                4692128  1822511629  2022-11-30 09:00:00   \n",
       "16                8360514   346741516  2020-12-07 14:00:00   \n",
       "17                8402278  1643629975  2022-12-27 01:00:00   \n",
       "18                9157420  1736140874  2020-01-11 15:00:00   \n",
       "19               11020774   111287879  2019-12-23 13:00:00   \n",
       "\n",
       "    visit_occurrence_id_y  Body temperature  visit_occurrence_id  \\\n",
       "0                 2322668              36.4              2322668   \n",
       "1                 2512220              36.5              2512220   \n",
       "2                 2512220               NaN              2512220   \n",
       "3                 2512220              37.3              2512220   \n",
       "4                 2512220              36.3              2512220   \n",
       "5                 2512220              36.1              2512220   \n",
       "6                 2512220              35.7              2512220   \n",
       "7                 2512220              36.6              2512220   \n",
       "8                 2512220              37.4              2512220   \n",
       "9                 3586050               NaN              3586050   \n",
       "10                3586050               NaN              3586050   \n",
       "11                3586050              37.1              3586050   \n",
       "12                3586050               NaN              3586050   \n",
       "13                3586050              36.3              3586050   \n",
       "14                3586050              36.3              3586050   \n",
       "15                4692128              37.4              4692128   \n",
       "16                8360514              36.9              8360514   \n",
       "17                8402278              36.8              8402278   \n",
       "18                9157420              35.3              9157420   \n",
       "19               11020774              35.4             11020774   \n",
       "\n",
       "    Left pupil Diameter Auto  Right pupil Diameter Auto  Glasgow coma scale  \\\n",
       "0                        2.0                        2.0                11.0   \n",
       "1                        NaN                        NaN                15.0   \n",
       "2                        2.0                        2.0                13.0   \n",
       "3                        3.0                        3.0                 5.0   \n",
       "4                        2.0                        2.0                 5.0   \n",
       "5                        2.0                        2.0                 5.0   \n",
       "6                        2.0                        2.0                 5.0   \n",
       "7                        2.0                        2.0                 NaN   \n",
       "8                        3.0                        3.0                13.0   \n",
       "9                        1.0                        1.0                 NaN   \n",
       "10                       2.0                        2.0                 NaN   \n",
       "11                       2.5                        2.5                 3.0   \n",
       "12                       2.5                        2.5                 NaN   \n",
       "13                       NaN                        NaN                 NaN   \n",
       "14                       2.5                        2.5                 4.0   \n",
       "15                       2.5                        2.5                15.0   \n",
       "16                       4.0                        4.0                 NaN   \n",
       "17                       3.0                        3.0                12.0   \n",
       "18                       3.0                        3.0                15.0   \n",
       "19                       2.0                        2.0                 NaN   \n",
       "\n",
       "   Right pupil Pupillary response Left pupil Pupillary response  \n",
       "0                          Normal                        Normal  \n",
       "1                             NaN                           NaN  \n",
       "2                          Normal                        Normal  \n",
       "3                        Sluggish                      Sluggish  \n",
       "4                        Sluggish                      Sluggish  \n",
       "5                        Sluggish                      Sluggish  \n",
       "6                        Sluggish                      Sluggish  \n",
       "7                        Sluggish                      Sluggish  \n",
       "8                          Normal                        Normal  \n",
       "9                        Sluggish                      Sluggish  \n",
       "10                         Normal                        Normal  \n",
       "11                       Sluggish                      Sluggish  \n",
       "12                       Sluggish                      Sluggish  \n",
       "13                       Sluggish                      Sluggish  \n",
       "14                         Normal                        Normal  \n",
       "15                         Normal                        Normal  \n",
       "16                         Normal                        Normal  \n",
       "17                       Sluggish                      Sluggish  \n",
       "18                         Normal                        Normal  \n",
       "19                         Normal                        Normal  "
      ]
     },
     "execution_count": 22,
     "metadata": {},
     "output_type": "execute_result"
    }
   ],
   "source": [
    "df.head(20)"
   ]
  },
  {
   "cell_type": "code",
   "execution_count": 23,
   "metadata": {},
   "outputs": [
    {
     "data": {
      "text/plain": [
       "visit_occurrence_id_x                0\n",
       "person_id                            0\n",
       "measurement_datetime                 0\n",
       "visit_occurrence_id_y                0\n",
       "Body temperature                   410\n",
       "visit_occurrence_id                  0\n",
       "Left pupil Diameter Auto          1389\n",
       "Right pupil Diameter Auto         1377\n",
       "Glasgow coma scale                1830\n",
       "Right pupil Pupillary response    1202\n",
       "Left pupil Pupillary response     1216\n",
       "dtype: int64"
      ]
     },
     "execution_count": 23,
     "metadata": {},
     "output_type": "execute_result"
    }
   ],
   "source": [
    "df.isnull().sum()"
   ]
  },
  {
   "cell_type": "code",
   "execution_count": 24,
   "metadata": {},
   "outputs": [],
   "source": [
    "df.drop(['visit_occurrence_id_x','visit_occurrence_id_y'], inplace=True, axis=1)"
   ]
  },
  {
   "cell_type": "code",
   "execution_count": 25,
   "metadata": {},
   "outputs": [
    {
     "data": {
      "text/plain": [
       "person_id                            0\n",
       "measurement_datetime                 0\n",
       "Body temperature                   410\n",
       "visit_occurrence_id                  0\n",
       "Left pupil Diameter Auto          1389\n",
       "Right pupil Diameter Auto         1377\n",
       "Glasgow coma scale                1830\n",
       "Right pupil Pupillary response    1202\n",
       "Left pupil Pupillary response     1216\n",
       "dtype: int64"
      ]
     },
     "execution_count": 25,
     "metadata": {},
     "output_type": "execute_result"
    }
   ],
   "source": [
    "df.isnull().sum()"
   ]
  },
  {
   "cell_type": "code",
   "execution_count": 26,
   "metadata": {},
   "outputs": [],
   "source": [
    "# sluggish in the eye should be given more weight\n",
    "# high fever means higher value- can you engineer the rise in temperature to be a metric"
   ]
  },
  {
   "cell_type": "code",
   "execution_count": 27,
   "metadata": {},
   "outputs": [],
   "source": [
    "device=pd.read_csv(\"data/training_data/devices_train.csv\")\n",
    "drug=pd.read_csv(\"data/training_data/drugsexposure_train.csv\")\n",
    "observation=pd.read_csv(\"data/training_data/observation_train.csv\")\n",
    "demo=pd.read_csv(\"data/training_data/person_demographics_episode_train.csv\")\n",
    "procedure=pd.read_csv(\"data/training_data/proceduresoccurrences_train.csv\")\n",
    "label=pd.read_csv(\"data/training_data/SepsisLabel_train.csv\")"
   ]
  },
  {
   "cell_type": "code",
   "execution_count": 28,
   "metadata": {},
   "outputs": [],
   "source": [
    "df_process=[device,drug,observation,demo,procedure,label]"
   ]
  },
  {
   "cell_type": "code",
   "execution_count": 29,
   "metadata": {},
   "outputs": [
    {
     "data": {
      "text/plain": [
       "(331653, 3)"
      ]
     },
     "execution_count": 29,
     "metadata": {},
     "output_type": "execute_result"
    }
   ],
   "source": [
    "label.shape"
   ]
  },
  {
   "cell_type": "code",
   "execution_count": 30,
   "metadata": {},
   "outputs": [
    {
     "data": {
      "text/plain": [
       "Index(['person_id', 'measurement_datetime', 'SepsisLabel'], dtype='object')"
      ]
     },
     "execution_count": 30,
     "metadata": {},
     "output_type": "execute_result"
    }
   ],
   "source": [
    "label.columns"
   ]
  },
  {
   "cell_type": "code",
   "execution_count": 31,
   "metadata": {},
   "outputs": [
    {
     "data": {
      "text/html": [
       "<div>\n",
       "<style scoped>\n",
       "    .dataframe tbody tr th:only-of-type {\n",
       "        vertical-align: middle;\n",
       "    }\n",
       "\n",
       "    .dataframe tbody tr th {\n",
       "        vertical-align: top;\n",
       "    }\n",
       "\n",
       "    .dataframe thead th {\n",
       "        text-align: right;\n",
       "    }\n",
       "</style>\n",
       "<table border=\"1\" class=\"dataframe\">\n",
       "  <thead>\n",
       "    <tr style=\"text-align: right;\">\n",
       "      <th></th>\n",
       "      <th>person_id</th>\n",
       "      <th>measurement_datetime</th>\n",
       "      <th>SepsisLabel</th>\n",
       "    </tr>\n",
       "  </thead>\n",
       "  <tbody>\n",
       "    <tr>\n",
       "      <th>0</th>\n",
       "      <td>274096387</td>\n",
       "      <td>2024-12-03 20:00:00</td>\n",
       "      <td>0</td>\n",
       "    </tr>\n",
       "    <tr>\n",
       "      <th>1</th>\n",
       "      <td>1719359031</td>\n",
       "      <td>2024-04-20 09:00:00</td>\n",
       "      <td>0</td>\n",
       "    </tr>\n",
       "    <tr>\n",
       "      <th>2</th>\n",
       "      <td>2024544816</td>\n",
       "      <td>2021-07-14 07:00:00</td>\n",
       "      <td>0</td>\n",
       "    </tr>\n",
       "    <tr>\n",
       "      <th>3</th>\n",
       "      <td>213710896</td>\n",
       "      <td>2022-05-24 07:00:00</td>\n",
       "      <td>0</td>\n",
       "    </tr>\n",
       "    <tr>\n",
       "      <th>4</th>\n",
       "      <td>1335786468</td>\n",
       "      <td>2024-08-25 22:00:00</td>\n",
       "      <td>0</td>\n",
       "    </tr>\n",
       "  </tbody>\n",
       "</table>\n",
       "</div>"
      ],
      "text/plain": [
       "    person_id measurement_datetime  SepsisLabel\n",
       "0   274096387  2024-12-03 20:00:00            0\n",
       "1  1719359031  2024-04-20 09:00:00            0\n",
       "2  2024544816  2021-07-14 07:00:00            0\n",
       "3   213710896  2022-05-24 07:00:00            0\n",
       "4  1335786468  2024-08-25 22:00:00            0"
      ]
     },
     "execution_count": 31,
     "metadata": {},
     "output_type": "execute_result"
    }
   ],
   "source": [
    "label.head()"
   ]
  },
  {
   "cell_type": "code",
   "execution_count": 32,
   "metadata": {},
   "outputs": [
    {
     "data": {
      "text/html": [
       "<div>\n",
       "<style scoped>\n",
       "    .dataframe tbody tr th:only-of-type {\n",
       "        vertical-align: middle;\n",
       "    }\n",
       "\n",
       "    .dataframe tbody tr th {\n",
       "        vertical-align: top;\n",
       "    }\n",
       "\n",
       "    .dataframe thead th {\n",
       "        text-align: right;\n",
       "    }\n",
       "</style>\n",
       "<table border=\"1\" class=\"dataframe\">\n",
       "  <thead>\n",
       "    <tr style=\"text-align: right;\">\n",
       "      <th></th>\n",
       "      <th>visit_occurrence_id</th>\n",
       "      <th>device_datetime_hourly</th>\n",
       "      <th>person_id</th>\n",
       "      <th>device</th>\n",
       "    </tr>\n",
       "  </thead>\n",
       "  <tbody>\n",
       "    <tr>\n",
       "      <th>0</th>\n",
       "      <td>2322668</td>\n",
       "      <td>2024-10-17 10:00:00</td>\n",
       "      <td>1553934216</td>\n",
       "      <td>Arterial blood pressure catheter</td>\n",
       "    </tr>\n",
       "    <tr>\n",
       "      <th>1</th>\n",
       "      <td>2322668</td>\n",
       "      <td>2024-10-17 11:00:00</td>\n",
       "      <td>1553934216</td>\n",
       "      <td>Arterial blood pressure catheter</td>\n",
       "    </tr>\n",
       "    <tr>\n",
       "      <th>2</th>\n",
       "      <td>2322668</td>\n",
       "      <td>2024-10-17 12:00:00</td>\n",
       "      <td>1553934216</td>\n",
       "      <td>Arterial blood pressure catheter</td>\n",
       "    </tr>\n",
       "    <tr>\n",
       "      <th>3</th>\n",
       "      <td>2322668</td>\n",
       "      <td>2024-10-17 13:00:00</td>\n",
       "      <td>1553934216</td>\n",
       "      <td>Arterial blood pressure catheter</td>\n",
       "    </tr>\n",
       "    <tr>\n",
       "      <th>4</th>\n",
       "      <td>2322668</td>\n",
       "      <td>2024-10-17 14:00:00</td>\n",
       "      <td>1553934216</td>\n",
       "      <td>Arterial blood pressure catheter</td>\n",
       "    </tr>\n",
       "  </tbody>\n",
       "</table>\n",
       "</div>"
      ],
      "text/plain": [
       "   visit_occurrence_id device_datetime_hourly   person_id  \\\n",
       "0              2322668    2024-10-17 10:00:00  1553934216   \n",
       "1              2322668    2024-10-17 11:00:00  1553934216   \n",
       "2              2322668    2024-10-17 12:00:00  1553934216   \n",
       "3              2322668    2024-10-17 13:00:00  1553934216   \n",
       "4              2322668    2024-10-17 14:00:00  1553934216   \n",
       "\n",
       "                             device  \n",
       "0  Arterial blood pressure catheter  \n",
       "1  Arterial blood pressure catheter  \n",
       "2  Arterial blood pressure catheter  \n",
       "3  Arterial blood pressure catheter  \n",
       "4  Arterial blood pressure catheter  "
      ]
     },
     "execution_count": 32,
     "metadata": {},
     "output_type": "execute_result"
    }
   ],
   "source": [
    "device.head()"
   ]
  },
  {
   "cell_type": "code",
   "execution_count": 33,
   "metadata": {},
   "outputs": [],
   "source": [
    "device.drop('visit_occurrence_id',axis=1,inplace=True)"
   ]
  },
  {
   "cell_type": "code",
   "execution_count": 34,
   "metadata": {},
   "outputs": [
    {
     "data": {
      "text/plain": [
       "device\n",
       "Urinary catheter                      198542\n",
       "Central venous catheter               188955\n",
       "Arterial blood pressure catheter      173702\n",
       "Nasogastric/orogastric tube stylet    169397\n",
       "Endotracheal tube                      20282\n",
       "Name: count, dtype: int64"
      ]
     },
     "execution_count": 34,
     "metadata": {},
     "output_type": "execute_result"
    }
   ],
   "source": [
    "device['device'].value_counts()"
   ]
  },
  {
   "cell_type": "code",
   "execution_count": 35,
   "metadata": {},
   "outputs": [
    {
     "data": {
      "text/plain": [
       "0"
      ]
     },
     "execution_count": 35,
     "metadata": {},
     "output_type": "execute_result"
    }
   ],
   "source": [
    "device['device'].isnull().sum()"
   ]
  },
  {
   "cell_type": "code",
   "execution_count": 36,
   "metadata": {},
   "outputs": [
    {
     "data": {
      "text/html": [
       "<div>\n",
       "<style scoped>\n",
       "    .dataframe tbody tr th:only-of-type {\n",
       "        vertical-align: middle;\n",
       "    }\n",
       "\n",
       "    .dataframe tbody tr th {\n",
       "        vertical-align: top;\n",
       "    }\n",
       "\n",
       "    .dataframe thead th {\n",
       "        text-align: right;\n",
       "    }\n",
       "</style>\n",
       "<table border=\"1\" class=\"dataframe\">\n",
       "  <thead>\n",
       "    <tr style=\"text-align: right;\">\n",
       "      <th></th>\n",
       "      <th>visit_occurrence_id</th>\n",
       "      <th>person_id</th>\n",
       "      <th>drug_datetime_hourly</th>\n",
       "      <th>drug_concept_id</th>\n",
       "      <th>route_concept_id</th>\n",
       "    </tr>\n",
       "  </thead>\n",
       "  <tbody>\n",
       "    <tr>\n",
       "      <th>0</th>\n",
       "      <td>933758</td>\n",
       "      <td>523870286</td>\n",
       "      <td>2023-12-06 04:00:00</td>\n",
       "      <td>amoxicillin</td>\n",
       "      <td>Oral</td>\n",
       "    </tr>\n",
       "    <tr>\n",
       "      <th>1</th>\n",
       "      <td>933758</td>\n",
       "      <td>523870286</td>\n",
       "      <td>2023-12-06 09:00:00</td>\n",
       "      <td>prednisolone</td>\n",
       "      <td>Oral</td>\n",
       "    </tr>\n",
       "    <tr>\n",
       "      <th>2</th>\n",
       "      <td>933758</td>\n",
       "      <td>523870286</td>\n",
       "      <td>2023-12-06 12:00:00</td>\n",
       "      <td>amoxicillin</td>\n",
       "      <td>Oral</td>\n",
       "    </tr>\n",
       "    <tr>\n",
       "      <th>3</th>\n",
       "      <td>933758</td>\n",
       "      <td>523870286</td>\n",
       "      <td>2023-12-06 13:00:00</td>\n",
       "      <td>azithromycin</td>\n",
       "      <td>Oral</td>\n",
       "    </tr>\n",
       "    <tr>\n",
       "      <th>4</th>\n",
       "      <td>933758</td>\n",
       "      <td>523870286</td>\n",
       "      <td>2023-12-06 17:00:00</td>\n",
       "      <td>methylprednisolone</td>\n",
       "      <td>Intravenous</td>\n",
       "    </tr>\n",
       "  </tbody>\n",
       "</table>\n",
       "</div>"
      ],
      "text/plain": [
       "   visit_occurrence_id  person_id drug_datetime_hourly     drug_concept_id  \\\n",
       "0               933758  523870286  2023-12-06 04:00:00         amoxicillin   \n",
       "1               933758  523870286  2023-12-06 09:00:00        prednisolone   \n",
       "2               933758  523870286  2023-12-06 12:00:00         amoxicillin   \n",
       "3               933758  523870286  2023-12-06 13:00:00        azithromycin   \n",
       "4               933758  523870286  2023-12-06 17:00:00  methylprednisolone   \n",
       "\n",
       "  route_concept_id  \n",
       "0             Oral  \n",
       "1             Oral  \n",
       "2             Oral  \n",
       "3             Oral  \n",
       "4      Intravenous  "
      ]
     },
     "execution_count": 36,
     "metadata": {},
     "output_type": "execute_result"
    }
   ],
   "source": [
    "drug.head()"
   ]
  },
  {
   "cell_type": "code",
   "execution_count": 37,
   "metadata": {},
   "outputs": [],
   "source": [
    "drug.drop('visit_occurrence_id',axis=1,inplace=True)"
   ]
  },
  {
   "cell_type": "code",
   "execution_count": 38,
   "metadata": {},
   "outputs": [
    {
     "data": {
      "text/plain": [
       "person_id                0\n",
       "drug_datetime_hourly     0\n",
       "drug_concept_id          0\n",
       "route_concept_id        22\n",
       "dtype: int64"
      ]
     },
     "execution_count": 38,
     "metadata": {},
     "output_type": "execute_result"
    }
   ],
   "source": [
    "drug.isnull().sum()"
   ]
  },
  {
   "cell_type": "code",
   "execution_count": 39,
   "metadata": {},
   "outputs": [
    {
     "data": {
      "text/plain": [
       "drug_concept_id\n",
       "milrinone             28142\n",
       "epinephrine           16618\n",
       "vancomycin            13012\n",
       "dexamethasone         12901\n",
       "norepinephrine        12267\n",
       "piperacillin          11364\n",
       "dopamine               9693\n",
       "hydrocortisone         8591\n",
       "meropenem              8567\n",
       "amoxicillin            8426\n",
       "methylprednisolone     7614\n",
       "trimethoprim           6534\n",
       "prednisolone           5309\n",
       "cefotaxime             4711\n",
       "ciprofloxacin          3779\n",
       "ampicillin             3176\n",
       "tobramycin             2130\n",
       "gentamicin             2097\n",
       "cefazolin              2060\n",
       "ceftazidime            1684\n",
       "mupirocin              1554\n",
       "linezolid              1488\n",
       "voriconazole           1175\n",
       "azithromycin           1065\n",
       "fluconazole            1004\n",
       "colistin                937\n",
       "amikacin                907\n",
       "isavuconazole           706\n",
       "cefepime                689\n",
       "teicoplanin             675\n",
       "levosimendan            665\n",
       "dobutamine              619\n",
       "clindamycin             610\n",
       "micafungin              588\n",
       "erythromycin            583\n",
       "penicillin G            462\n",
       "levofloxacin            441\n",
       "rifampin                379\n",
       "ertapenem               277\n",
       "cefuroxime              266\n",
       "daptomycin              223\n",
       "cefadroxil              195\n",
       "fosfomycin              167\n",
       "fusidate                130\n",
       "ceftolozane             102\n",
       "phenylephrine            88\n",
       "anidulafungin            57\n",
       "clarithromycin           47\n",
       "nitrofurantoin            4\n",
       "isoproterenol             2\n",
       "Name: count, dtype: int64"
      ]
     },
     "execution_count": 39,
     "metadata": {},
     "output_type": "execute_result"
    }
   ],
   "source": [
    "drug['drug_concept_id'].value_counts()"
   ]
  },
  {
   "cell_type": "code",
   "execution_count": 40,
   "metadata": {},
   "outputs": [],
   "source": [
    "# impute with same for which way but will it matter"
   ]
  },
  {
   "cell_type": "code",
   "execution_count": 41,
   "metadata": {},
   "outputs": [
    {
     "data": {
      "text/html": [
       "<div>\n",
       "<style scoped>\n",
       "    .dataframe tbody tr th:only-of-type {\n",
       "        vertical-align: middle;\n",
       "    }\n",
       "\n",
       "    .dataframe tbody tr th {\n",
       "        vertical-align: top;\n",
       "    }\n",
       "\n",
       "    .dataframe thead th {\n",
       "        text-align: right;\n",
       "    }\n",
       "</style>\n",
       "<table border=\"1\" class=\"dataframe\">\n",
       "  <thead>\n",
       "    <tr style=\"text-align: right;\">\n",
       "      <th></th>\n",
       "      <th>visit_occurrence_id</th>\n",
       "      <th>person_id</th>\n",
       "      <th>observation_datetime</th>\n",
       "      <th>observation_concept_id</th>\n",
       "      <th>observation_concept_name</th>\n",
       "      <th>valuefilled</th>\n",
       "    </tr>\n",
       "  </thead>\n",
       "  <tbody>\n",
       "    <tr>\n",
       "      <th>0</th>\n",
       "      <td>1933014304</td>\n",
       "      <td>1354145347</td>\n",
       "      <td>2021-12-15 20:00:00</td>\n",
       "      <td>44803020</td>\n",
       "      <td>Primary reason for admission</td>\n",
       "      <td>Quirúrgico - Electivo</td>\n",
       "    </tr>\n",
       "    <tr>\n",
       "      <th>1</th>\n",
       "      <td>469091308</td>\n",
       "      <td>1211327821</td>\n",
       "      <td>2020-01-29 17:00:00</td>\n",
       "      <td>44803020</td>\n",
       "      <td>Primary reason for admission</td>\n",
       "      <td>Quirúrgico - Electivo</td>\n",
       "    </tr>\n",
       "    <tr>\n",
       "      <th>2</th>\n",
       "      <td>822483951</td>\n",
       "      <td>127099706</td>\n",
       "      <td>2020-06-02 14:00:00</td>\n",
       "      <td>44803020</td>\n",
       "      <td>Primary reason for admission</td>\n",
       "      <td>Quirúrgico - Electivo</td>\n",
       "    </tr>\n",
       "    <tr>\n",
       "      <th>3</th>\n",
       "      <td>862311390</td>\n",
       "      <td>60715713</td>\n",
       "      <td>2021-02-14 19:00:00</td>\n",
       "      <td>44803020</td>\n",
       "      <td>Primary reason for admission</td>\n",
       "      <td>Médico</td>\n",
       "    </tr>\n",
       "    <tr>\n",
       "      <th>4</th>\n",
       "      <td>960347036</td>\n",
       "      <td>2088110327</td>\n",
       "      <td>2020-07-24 19:00:00</td>\n",
       "      <td>44803020</td>\n",
       "      <td>Primary reason for admission</td>\n",
       "      <td>Médico</td>\n",
       "    </tr>\n",
       "  </tbody>\n",
       "</table>\n",
       "</div>"
      ],
      "text/plain": [
       "   visit_occurrence_id   person_id observation_datetime  \\\n",
       "0           1933014304  1354145347  2021-12-15 20:00:00   \n",
       "1            469091308  1211327821  2020-01-29 17:00:00   \n",
       "2            822483951   127099706  2020-06-02 14:00:00   \n",
       "3            862311390    60715713  2021-02-14 19:00:00   \n",
       "4            960347036  2088110327  2020-07-24 19:00:00   \n",
       "\n",
       "   observation_concept_id      observation_concept_name            valuefilled  \n",
       "0                44803020  Primary reason for admission  Quirúrgico - Electivo  \n",
       "1                44803020  Primary reason for admission  Quirúrgico - Electivo  \n",
       "2                44803020  Primary reason for admission  Quirúrgico - Electivo  \n",
       "3                44803020  Primary reason for admission                 Médico  \n",
       "4                44803020  Primary reason for admission                 Médico  "
      ]
     },
     "execution_count": 41,
     "metadata": {},
     "output_type": "execute_result"
    }
   ],
   "source": [
    "observation.head()"
   ]
  },
  {
   "cell_type": "code",
   "execution_count": 42,
   "metadata": {},
   "outputs": [],
   "source": [
    "observation.drop(['visit_occurrence_id','observation_concept_id'],axis=1,inplace=True)"
   ]
  },
  {
   "cell_type": "code",
   "execution_count": 43,
   "metadata": {},
   "outputs": [
    {
     "data": {
      "text/plain": [
       "person_id                   0\n",
       "observation_datetime        0\n",
       "observation_concept_name    0\n",
       "valuefilled                 0\n",
       "dtype: int64"
      ]
     },
     "execution_count": 43,
     "metadata": {},
     "output_type": "execute_result"
    }
   ],
   "source": [
    "observation.isnull().sum()"
   ]
  },
  {
   "cell_type": "code",
   "execution_count": 44,
   "metadata": {},
   "outputs": [
    {
     "data": {
      "text/plain": [
       "valuefilled\n",
       "Médico                   2228\n",
       "Quirúrgico - Electivo    1376\n",
       "Quirúrgico - Urgencia     203\n",
       "Name: count, dtype: int64"
      ]
     },
     "execution_count": 44,
     "metadata": {},
     "output_type": "execute_result"
    }
   ],
   "source": [
    "observation['valuefilled'].value_counts()"
   ]
  },
  {
   "cell_type": "code",
   "execution_count": 45,
   "metadata": {},
   "outputs": [
    {
     "data": {
      "text/html": [
       "<div>\n",
       "<style scoped>\n",
       "    .dataframe tbody tr th:only-of-type {\n",
       "        vertical-align: middle;\n",
       "    }\n",
       "\n",
       "    .dataframe tbody tr th {\n",
       "        vertical-align: top;\n",
       "    }\n",
       "\n",
       "    .dataframe thead th {\n",
       "        text-align: right;\n",
       "    }\n",
       "</style>\n",
       "<table border=\"1\" class=\"dataframe\">\n",
       "  <thead>\n",
       "    <tr style=\"text-align: right;\">\n",
       "      <th></th>\n",
       "      <th>visit_occurrence_id</th>\n",
       "      <th>person_id</th>\n",
       "      <th>visit_start_date</th>\n",
       "      <th>birth_datetime</th>\n",
       "      <th>age_in_months</th>\n",
       "      <th>gender</th>\n",
       "    </tr>\n",
       "  </thead>\n",
       "  <tbody>\n",
       "    <tr>\n",
       "      <th>0</th>\n",
       "      <td>1933014304</td>\n",
       "      <td>1354145347</td>\n",
       "      <td>2021-12-15</td>\n",
       "      <td>2002-05-30</td>\n",
       "      <td>235</td>\n",
       "      <td>MALE</td>\n",
       "    </tr>\n",
       "    <tr>\n",
       "      <th>1</th>\n",
       "      <td>469091308</td>\n",
       "      <td>1211327821</td>\n",
       "      <td>2020-01-28</td>\n",
       "      <td>2002-03-23</td>\n",
       "      <td>214</td>\n",
       "      <td>MALE</td>\n",
       "    </tr>\n",
       "    <tr>\n",
       "      <th>2</th>\n",
       "      <td>822483951</td>\n",
       "      <td>127099706</td>\n",
       "      <td>2020-06-01</td>\n",
       "      <td>2003-01-15</td>\n",
       "      <td>209</td>\n",
       "      <td>MALE</td>\n",
       "    </tr>\n",
       "    <tr>\n",
       "      <th>3</th>\n",
       "      <td>862311390</td>\n",
       "      <td>60715713</td>\n",
       "      <td>2021-02-14</td>\n",
       "      <td>2003-02-21</td>\n",
       "      <td>216</td>\n",
       "      <td>MALE</td>\n",
       "    </tr>\n",
       "    <tr>\n",
       "      <th>4</th>\n",
       "      <td>960347036</td>\n",
       "      <td>2088110327</td>\n",
       "      <td>2020-07-24</td>\n",
       "      <td>2003-02-16</td>\n",
       "      <td>209</td>\n",
       "      <td>MALE</td>\n",
       "    </tr>\n",
       "  </tbody>\n",
       "</table>\n",
       "</div>"
      ],
      "text/plain": [
       "   visit_occurrence_id   person_id visit_start_date birth_datetime  \\\n",
       "0           1933014304  1354145347       2021-12-15     2002-05-30   \n",
       "1            469091308  1211327821       2020-01-28     2002-03-23   \n",
       "2            822483951   127099706       2020-06-01     2003-01-15   \n",
       "3            862311390    60715713       2021-02-14     2003-02-21   \n",
       "4            960347036  2088110327       2020-07-24     2003-02-16   \n",
       "\n",
       "   age_in_months gender  \n",
       "0            235   MALE  \n",
       "1            214   MALE  \n",
       "2            209   MALE  \n",
       "3            216   MALE  \n",
       "4            209   MALE  "
      ]
     },
     "execution_count": 45,
     "metadata": {},
     "output_type": "execute_result"
    }
   ],
   "source": [
    "demo.head()"
   ]
  },
  {
   "cell_type": "code",
   "execution_count": 46,
   "metadata": {},
   "outputs": [],
   "source": [
    "demo.drop(['visit_occurrence_id'],axis=1,inplace=True)"
   ]
  },
  {
   "cell_type": "code",
   "execution_count": 47,
   "metadata": {},
   "outputs": [
    {
     "data": {
      "text/plain": [
       "gender\n",
       "MALE      1952\n",
       "FEMALE    1439\n",
       "Name: count, dtype: int64"
      ]
     },
     "execution_count": 47,
     "metadata": {},
     "output_type": "execute_result"
    }
   ],
   "source": [
    "demo['gender'].value_counts()"
   ]
  },
  {
   "cell_type": "code",
   "execution_count": 48,
   "metadata": {},
   "outputs": [
    {
     "data": {
      "text/html": [
       "<div>\n",
       "<style scoped>\n",
       "    .dataframe tbody tr th:only-of-type {\n",
       "        vertical-align: middle;\n",
       "    }\n",
       "\n",
       "    .dataframe tbody tr th {\n",
       "        vertical-align: top;\n",
       "    }\n",
       "\n",
       "    .dataframe thead th {\n",
       "        text-align: right;\n",
       "    }\n",
       "</style>\n",
       "<table border=\"1\" class=\"dataframe\">\n",
       "  <thead>\n",
       "    <tr style=\"text-align: right;\">\n",
       "      <th></th>\n",
       "      <th>visit_occurrence_id</th>\n",
       "      <th>procedure_datetime_hourly</th>\n",
       "      <th>person_id</th>\n",
       "      <th>procedure</th>\n",
       "    </tr>\n",
       "  </thead>\n",
       "  <tbody>\n",
       "    <tr>\n",
       "      <th>0</th>\n",
       "      <td>933758</td>\n",
       "      <td>2023-12-07 10:00:00</td>\n",
       "      <td>523870286</td>\n",
       "      <td>Cannulation</td>\n",
       "    </tr>\n",
       "    <tr>\n",
       "      <th>1</th>\n",
       "      <td>933758</td>\n",
       "      <td>2023-12-07 11:00:00</td>\n",
       "      <td>523870286</td>\n",
       "      <td>Non-invasive ventilation</td>\n",
       "    </tr>\n",
       "    <tr>\n",
       "      <th>2</th>\n",
       "      <td>933758</td>\n",
       "      <td>2023-12-07 12:00:00</td>\n",
       "      <td>523870286</td>\n",
       "      <td>Non-invasive ventilation</td>\n",
       "    </tr>\n",
       "    <tr>\n",
       "      <th>3</th>\n",
       "      <td>933758</td>\n",
       "      <td>2023-12-07 13:00:00</td>\n",
       "      <td>523870286</td>\n",
       "      <td>Non-invasive ventilation</td>\n",
       "    </tr>\n",
       "    <tr>\n",
       "      <th>4</th>\n",
       "      <td>933758</td>\n",
       "      <td>2023-12-07 14:00:00</td>\n",
       "      <td>523870286</td>\n",
       "      <td>Non-invasive ventilation</td>\n",
       "    </tr>\n",
       "  </tbody>\n",
       "</table>\n",
       "</div>"
      ],
      "text/plain": [
       "   visit_occurrence_id procedure_datetime_hourly  person_id  \\\n",
       "0               933758       2023-12-07 10:00:00  523870286   \n",
       "1               933758       2023-12-07 11:00:00  523870286   \n",
       "2               933758       2023-12-07 12:00:00  523870286   \n",
       "3               933758       2023-12-07 13:00:00  523870286   \n",
       "4               933758       2023-12-07 14:00:00  523870286   \n",
       "\n",
       "                  procedure  \n",
       "0               Cannulation  \n",
       "1  Non-invasive ventilation  \n",
       "2  Non-invasive ventilation  \n",
       "3  Non-invasive ventilation  \n",
       "4  Non-invasive ventilation  "
      ]
     },
     "execution_count": 48,
     "metadata": {},
     "output_type": "execute_result"
    }
   ],
   "source": [
    "procedure.head()"
   ]
  },
  {
   "cell_type": "code",
   "execution_count": 49,
   "metadata": {},
   "outputs": [],
   "source": [
    "procedure.drop('visit_occurrence_id',axis=1,inplace=True)"
   ]
  },
  {
   "cell_type": "code",
   "execution_count": 50,
   "metadata": {},
   "outputs": [
    {
     "data": {
      "text/plain": [
       "procedure\n",
       "Cannulation                            584235\n",
       "Non-invasive ventilation               117261\n",
       "Invasive ventilation                    35080\n",
       "Exteriorization of trachea              32168\n",
       "Peritoneal dialysis                      1477\n",
       "Dialysis procedure                        925\n",
       "Extracorporeal membrane oxygenation        68\n",
       "Name: count, dtype: int64"
      ]
     },
     "execution_count": 50,
     "metadata": {},
     "output_type": "execute_result"
    }
   ],
   "source": [
    "procedure['procedure'].value_counts()"
   ]
  },
  {
   "cell_type": "code",
   "execution_count": 51,
   "metadata": {},
   "outputs": [
    {
     "data": {
      "text/plain": [
       "procedure_datetime_hourly    0\n",
       "person_id                    0\n",
       "procedure                    0\n",
       "dtype: int64"
      ]
     },
     "execution_count": 51,
     "metadata": {},
     "output_type": "execute_result"
    }
   ],
   "source": [
    "procedure.isnull().sum()"
   ]
  },
  {
   "cell_type": "code",
   "execution_count": 52,
   "metadata": {},
   "outputs": [],
   "source": [
    "# now get the joins and join on the label wale index"
   ]
  },
  {
   "cell_type": "code",
   "execution_count": null,
   "metadata": {},
   "outputs": [],
   "source": []
  },
  {
   "cell_type": "code",
   "execution_count": 53,
   "metadata": {},
   "outputs": [],
   "source": [
    "df_process=[device,drug,observation,demo,procedure,label]"
   ]
  },
  {
   "cell_type": "code",
   "execution_count": 54,
   "metadata": {},
   "outputs": [
    {
     "data": {
      "text/plain": [
       "person_id                0\n",
       "measurement_datetime    16\n",
       "SepsisLabel              0\n",
       "dtype: int64"
      ]
     },
     "execution_count": 54,
     "metadata": {},
     "output_type": "execute_result"
    }
   ],
   "source": [
    "df_process[5].isnull().sum()\n",
    "# datetime ka kya karna hai ask?"
   ]
  },
  {
   "cell_type": "code",
   "execution_count": 55,
   "metadata": {},
   "outputs": [
    {
     "data": {
      "text/plain": [
       "person_id                0\n",
       "drug_datetime_hourly     0\n",
       "drug_concept_id          0\n",
       "route_concept_id        22\n",
       "dtype: int64"
      ]
     },
     "execution_count": 55,
     "metadata": {},
     "output_type": "execute_result"
    }
   ],
   "source": [
    "df_process[1].isnull().sum()"
   ]
  },
  {
   "cell_type": "code",
   "execution_count": 56,
   "metadata": {},
   "outputs": [],
   "source": [
    "null_data = drug[drug.isnull().any(axis=1)]\n"
   ]
  },
  {
   "cell_type": "code",
   "execution_count": 57,
   "metadata": {},
   "outputs": [
    {
     "data": {
      "text/html": [
       "<div>\n",
       "<style scoped>\n",
       "    .dataframe tbody tr th:only-of-type {\n",
       "        vertical-align: middle;\n",
       "    }\n",
       "\n",
       "    .dataframe tbody tr th {\n",
       "        vertical-align: top;\n",
       "    }\n",
       "\n",
       "    .dataframe thead th {\n",
       "        text-align: right;\n",
       "    }\n",
       "</style>\n",
       "<table border=\"1\" class=\"dataframe\">\n",
       "  <thead>\n",
       "    <tr style=\"text-align: right;\">\n",
       "      <th></th>\n",
       "      <th>person_id</th>\n",
       "      <th>drug_datetime_hourly</th>\n",
       "      <th>drug_concept_id</th>\n",
       "      <th>route_concept_id</th>\n",
       "    </tr>\n",
       "  </thead>\n",
       "  <tbody>\n",
       "    <tr>\n",
       "      <th>18929</th>\n",
       "      <td>1780122793</td>\n",
       "      <td>2024-06-03 12:00:00</td>\n",
       "      <td>isavuconazole</td>\n",
       "      <td>NaN</td>\n",
       "    </tr>\n",
       "    <tr>\n",
       "      <th>44619</th>\n",
       "      <td>2096338859</td>\n",
       "      <td>2023-07-21 12:00:00</td>\n",
       "      <td>amikacin</td>\n",
       "      <td>NaN</td>\n",
       "    </tr>\n",
       "    <tr>\n",
       "      <th>47675</th>\n",
       "      <td>1314502207</td>\n",
       "      <td>2024-01-24 11:00:00</td>\n",
       "      <td>methylprednisolone</td>\n",
       "      <td>NaN</td>\n",
       "    </tr>\n",
       "    <tr>\n",
       "      <th>47676</th>\n",
       "      <td>1314502207</td>\n",
       "      <td>2024-01-24 23:00:00</td>\n",
       "      <td>methylprednisolone</td>\n",
       "      <td>NaN</td>\n",
       "    </tr>\n",
       "    <tr>\n",
       "      <th>47677</th>\n",
       "      <td>1314502207</td>\n",
       "      <td>2024-01-25 11:00:00</td>\n",
       "      <td>methylprednisolone</td>\n",
       "      <td>NaN</td>\n",
       "    </tr>\n",
       "    <tr>\n",
       "      <th>47679</th>\n",
       "      <td>1314502207</td>\n",
       "      <td>2024-01-25 23:00:00</td>\n",
       "      <td>methylprednisolone</td>\n",
       "      <td>NaN</td>\n",
       "    </tr>\n",
       "    <tr>\n",
       "      <th>47680</th>\n",
       "      <td>1314502207</td>\n",
       "      <td>2024-01-26 11:00:00</td>\n",
       "      <td>methylprednisolone</td>\n",
       "      <td>NaN</td>\n",
       "    </tr>\n",
       "    <tr>\n",
       "      <th>47682</th>\n",
       "      <td>1314502207</td>\n",
       "      <td>2024-01-27 00:00:00</td>\n",
       "      <td>methylprednisolone</td>\n",
       "      <td>NaN</td>\n",
       "    </tr>\n",
       "    <tr>\n",
       "      <th>47683</th>\n",
       "      <td>1314502207</td>\n",
       "      <td>2024-01-27 11:00:00</td>\n",
       "      <td>methylprednisolone</td>\n",
       "      <td>NaN</td>\n",
       "    </tr>\n",
       "    <tr>\n",
       "      <th>47684</th>\n",
       "      <td>1314502207</td>\n",
       "      <td>2024-01-27 22:00:00</td>\n",
       "      <td>methylprednisolone</td>\n",
       "      <td>NaN</td>\n",
       "    </tr>\n",
       "    <tr>\n",
       "      <th>47685</th>\n",
       "      <td>1314502207</td>\n",
       "      <td>2024-01-28 11:00:00</td>\n",
       "      <td>methylprednisolone</td>\n",
       "      <td>NaN</td>\n",
       "    </tr>\n",
       "    <tr>\n",
       "      <th>47686</th>\n",
       "      <td>1314502207</td>\n",
       "      <td>2024-01-28 23:00:00</td>\n",
       "      <td>methylprednisolone</td>\n",
       "      <td>NaN</td>\n",
       "    </tr>\n",
       "    <tr>\n",
       "      <th>47688</th>\n",
       "      <td>1314502207</td>\n",
       "      <td>2024-01-29 23:00:00</td>\n",
       "      <td>methylprednisolone</td>\n",
       "      <td>NaN</td>\n",
       "    </tr>\n",
       "    <tr>\n",
       "      <th>47689</th>\n",
       "      <td>1314502207</td>\n",
       "      <td>2024-01-30 11:00:00</td>\n",
       "      <td>methylprednisolone</td>\n",
       "      <td>NaN</td>\n",
       "    </tr>\n",
       "    <tr>\n",
       "      <th>121116</th>\n",
       "      <td>1218503080</td>\n",
       "      <td>2022-02-08 21:00:00</td>\n",
       "      <td>methylprednisolone</td>\n",
       "      <td>NaN</td>\n",
       "    </tr>\n",
       "    <tr>\n",
       "      <th>121117</th>\n",
       "      <td>1218503080</td>\n",
       "      <td>2022-02-09 09:00:00</td>\n",
       "      <td>methylprednisolone</td>\n",
       "      <td>NaN</td>\n",
       "    </tr>\n",
       "    <tr>\n",
       "      <th>121120</th>\n",
       "      <td>1218503080</td>\n",
       "      <td>2022-02-10 09:00:00</td>\n",
       "      <td>methylprednisolone</td>\n",
       "      <td>NaN</td>\n",
       "    </tr>\n",
       "    <tr>\n",
       "      <th>121122</th>\n",
       "      <td>1218503080</td>\n",
       "      <td>2022-02-11 09:00:00</td>\n",
       "      <td>methylprednisolone</td>\n",
       "      <td>NaN</td>\n",
       "    </tr>\n",
       "    <tr>\n",
       "      <th>121123</th>\n",
       "      <td>1218503080</td>\n",
       "      <td>2022-02-12 09:00:00</td>\n",
       "      <td>methylprednisolone</td>\n",
       "      <td>NaN</td>\n",
       "    </tr>\n",
       "    <tr>\n",
       "      <th>121124</th>\n",
       "      <td>1218503080</td>\n",
       "      <td>2022-02-13 09:00:00</td>\n",
       "      <td>methylprednisolone</td>\n",
       "      <td>NaN</td>\n",
       "    </tr>\n",
       "    <tr>\n",
       "      <th>121125</th>\n",
       "      <td>1218503080</td>\n",
       "      <td>2022-02-14 09:00:00</td>\n",
       "      <td>methylprednisolone</td>\n",
       "      <td>NaN</td>\n",
       "    </tr>\n",
       "    <tr>\n",
       "      <th>123317</th>\n",
       "      <td>1111487987</td>\n",
       "      <td>2021-12-29 18:00:00</td>\n",
       "      <td>methylprednisolone</td>\n",
       "      <td>NaN</td>\n",
       "    </tr>\n",
       "  </tbody>\n",
       "</table>\n",
       "</div>"
      ],
      "text/plain": [
       "         person_id drug_datetime_hourly     drug_concept_id route_concept_id\n",
       "18929   1780122793  2024-06-03 12:00:00       isavuconazole              NaN\n",
       "44619   2096338859  2023-07-21 12:00:00            amikacin              NaN\n",
       "47675   1314502207  2024-01-24 11:00:00  methylprednisolone              NaN\n",
       "47676   1314502207  2024-01-24 23:00:00  methylprednisolone              NaN\n",
       "47677   1314502207  2024-01-25 11:00:00  methylprednisolone              NaN\n",
       "47679   1314502207  2024-01-25 23:00:00  methylprednisolone              NaN\n",
       "47680   1314502207  2024-01-26 11:00:00  methylprednisolone              NaN\n",
       "47682   1314502207  2024-01-27 00:00:00  methylprednisolone              NaN\n",
       "47683   1314502207  2024-01-27 11:00:00  methylprednisolone              NaN\n",
       "47684   1314502207  2024-01-27 22:00:00  methylprednisolone              NaN\n",
       "47685   1314502207  2024-01-28 11:00:00  methylprednisolone              NaN\n",
       "47686   1314502207  2024-01-28 23:00:00  methylprednisolone              NaN\n",
       "47688   1314502207  2024-01-29 23:00:00  methylprednisolone              NaN\n",
       "47689   1314502207  2024-01-30 11:00:00  methylprednisolone              NaN\n",
       "121116  1218503080  2022-02-08 21:00:00  methylprednisolone              NaN\n",
       "121117  1218503080  2022-02-09 09:00:00  methylprednisolone              NaN\n",
       "121120  1218503080  2022-02-10 09:00:00  methylprednisolone              NaN\n",
       "121122  1218503080  2022-02-11 09:00:00  methylprednisolone              NaN\n",
       "121123  1218503080  2022-02-12 09:00:00  methylprednisolone              NaN\n",
       "121124  1218503080  2022-02-13 09:00:00  methylprednisolone              NaN\n",
       "121125  1218503080  2022-02-14 09:00:00  methylprednisolone              NaN\n",
       "123317  1111487987  2021-12-29 18:00:00  methylprednisolone              NaN"
      ]
     },
     "execution_count": 57,
     "metadata": {},
     "output_type": "execute_result"
    }
   ],
   "source": [
    "null_data"
   ]
  },
  {
   "cell_type": "code",
   "execution_count": 58,
   "metadata": {},
   "outputs": [
    {
     "name": "stdout",
     "output_type": "stream",
     "text": [
      "7614\n"
     ]
    }
   ],
   "source": [
    "count = (drug['drug_concept_id'] == 'methylprednisolone').sum()\n",
    "print(count)"
   ]
  },
  {
   "cell_type": "code",
   "execution_count": 59,
   "metadata": {},
   "outputs": [],
   "source": [
    "filtered_rows = drug[drug['drug_concept_id'] == 'methylprednisolone']"
   ]
  },
  {
   "cell_type": "code",
   "execution_count": 60,
   "metadata": {},
   "outputs": [
    {
     "data": {
      "text/plain": [
       "<bound method IndexOpsMixin.value_counts of 4         Intravenous\n",
       "7         Intravenous\n",
       "11        Intravenous\n",
       "14        Intravenous\n",
       "18        Intravenous\n",
       "             ...     \n",
       "184496    Intravenous\n",
       "184497    Intravenous\n",
       "184622    Intravenous\n",
       "184626    Intravenous\n",
       "184640    Intravenous\n",
       "Name: route_concept_id, Length: 7614, dtype: object>"
      ]
     },
     "execution_count": 60,
     "metadata": {},
     "output_type": "execute_result"
    }
   ],
   "source": [
    "filtered_rows['route_concept_id'].value_counts"
   ]
  },
  {
   "cell_type": "code",
   "execution_count": 62,
   "metadata": {},
   "outputs": [],
   "source": [
    "row=drug[drug['drug_concept_id']=='amikacin']"
   ]
  },
  {
   "cell_type": "code",
   "execution_count": 64,
   "metadata": {},
   "outputs": [
    {
     "data": {
      "text/plain": [
       "route_concept_id\n",
       "Intravenous     893\n",
       "Intramuscula     13\n",
       "Name: count, dtype: int64"
      ]
     },
     "execution_count": 64,
     "metadata": {},
     "output_type": "execute_result"
    }
   ],
   "source": [
    "row['route_concept_id'].value_counts()"
   ]
  },
  {
   "cell_type": "code",
   "execution_count": 66,
   "metadata": {},
   "outputs": [],
   "source": [
    "row2=drug[drug['drug_concept_id']=='isavuconazole']"
   ]
  },
  {
   "cell_type": "code",
   "execution_count": 68,
   "metadata": {},
   "outputs": [
    {
     "data": {
      "text/plain": [
       "route_concept_id\n",
       "Intravenous    529\n",
       "Oral           176\n",
       "Name: count, dtype: int64"
      ]
     },
     "execution_count": 68,
     "metadata": {},
     "output_type": "execute_result"
    }
   ],
   "source": [
    "row2['route_concept_id'].value_counts()"
   ]
  },
  {
   "cell_type": "markdown",
   "metadata": {},
   "source": [
    "impute as intravenous because ek hi hai for all and see severity is relagted to the method or route of introduction\n",
    "impute intravenous wherever the value drug is methylprednisolone\n",
    "\n",
    "\n",
    "merging and then testing it out then submission\n",
    "next works"
   ]
  }
 ],
 "metadata": {
  "kernelspec": {
   "display_name": "Python 3",
   "language": "python",
   "name": "python3"
  },
  "language_info": {
   "codemirror_mode": {
    "name": "ipython",
    "version": 3
   },
   "file_extension": ".py",
   "mimetype": "text/x-python",
   "name": "python",
   "nbconvert_exporter": "python",
   "pygments_lexer": "ipython3",
   "version": "3.12.3"
  }
 },
 "nbformat": 4,
 "nbformat_minor": 2
}
