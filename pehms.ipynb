{
 "cells": [
  {
   "cell_type": "code",
   "execution_count": 1,
   "metadata": {},
   "outputs": [],
   "source": [
    "import pandas as pd\n",
    "import os\n",
    "import seaborn as sns\n",
    "import matplotlib.pyplot as plt"
   ]
  },
  {
   "cell_type": "code",
   "execution_count": 2,
   "metadata": {},
   "outputs": [],
   "source": [
    "# now go in the directory and get the columns in each file to see how we going to be doing the join to get a single file\n",
    "# get files in the directory --> make the path to each file --> then try: learn about try catch and exception try must always have have an except, finally, or else clause.\n",
    "def get_col_name(dir_path):\n",
    "    files=os.listdir(dir_path)\n",
    "    for file in files:\n",
    "        file_path=os.path.join(dir_path,file)\n",
    "        try:\n",
    "            df=pd.read_csv(file_path)\n",
    "            print(file)\n",
    "            print(f\"Columns: {list(df.columns)}\")\n",
    "            print(\"shape:\",df.shape)\n",
    "            print(df.isnull().sum())\n",
    "            print(\"\\n\")\n",
    "        except Exception as e:\n",
    "            print(f\"Error reading file {file}: {e}\")\n"
   ]
  },
  {
   "cell_type": "code",
   "execution_count": 3,
   "metadata": {},
   "outputs": [
    {
     "name": "stdout",
     "output_type": "stream",
     "text": [
      "devices_train.csv\n",
      "Columns: ['visit_occurrence_id', 'device_datetime_hourly', 'person_id', 'device']\n",
      "shape: (750878, 4)\n",
      "visit_occurrence_id       0\n",
      "device_datetime_hourly    0\n",
      "person_id                 0\n",
      "device                    0\n",
      "dtype: int64\n",
      "\n",
      "\n",
      "drugsexposure_train.csv\n",
      "Columns: ['visit_occurrence_id', 'person_id', 'drug_datetime_hourly', 'drug_concept_id', 'route_concept_id']\n",
      "shape: (184780, 5)\n",
      "visit_occurrence_id      0\n",
      "person_id                0\n",
      "drug_datetime_hourly     0\n",
      "drug_concept_id          0\n",
      "route_concept_id        22\n",
      "dtype: int64\n",
      "\n",
      "\n",
      "measurement_lab_train.csv\n",
      "Columns: ['visit_occurrence_id', 'person_id', 'measurement_datetime', 'Base excess in Venous blood by calculation', 'Base excess in Arterial blood by calculation', 'Phosphate [Moles/volume] in Serum or Plasma', 'Potassium [Moles/volume] in Blood', 'Bilirubin.total [Moles/volume] in Serum or Plasma', 'Neutrophil Ab [Units/volume] in Serum', 'Bicarbonate [Moles/volume] in Arterial blood', 'Hematocrit [Volume Fraction] of Blood', 'Glucose [Moles/volume] in Serum or Plasma', 'Calcium [Moles/volume] in Serum or Plasma', 'Chloride [Moles/volume] in Blood', 'Sodium [Moles/volume] in Serum or Plasma', 'C reactive protein [Mass/volume] in Serum or Plasma', 'Carbon dioxide [Partial pressure] in Venous blood', 'Oxygen [Partial pressure] in Venous blood', 'Albumin [Mass/volume] in Serum or Plasma', 'Bicarbonate [Moles/volume] in Venous blood', 'Oxygen [Partial pressure] in Arterial blood', 'Carbon dioxide [Partial pressure] in Arterial blood', 'Interleukin 6 [Mass/volume] in Body fluid', 'Magnesium [Moles/volume] in Blood', 'Prothrombin time (PT)', 'Procalcitonin [Mass/volume] in Serum or Plasma', 'Lactate [Moles/volume] in Blood', 'Creatinine [Mass/volume] in Blood', 'Fibrinogen measurement', 'Bilirubin measurement', 'Partial thromboplastin time', ' activated', 'Total white blood count', 'Platelet count', 'White blood cell count', 'Blood venous pH', 'D-dimer level', 'Blood arterial pH', 'Hemoglobin [Moles/volume] in Blood', 'Ionised calcium measurement']\n",
      "shape: (69307, 40)\n",
      "visit_occurrence_id                                        0\n",
      "person_id                                                  0\n",
      "measurement_datetime                                       0\n",
      "Base excess in Venous blood by calculation             49882\n",
      "Base excess in Arterial blood by calculation           66760\n",
      "Phosphate [Moles/volume] in Serum or Plasma            59111\n",
      "Potassium [Moles/volume] in Blood                      37121\n",
      "Bilirubin.total [Moles/volume] in Serum or Plasma      54584\n",
      "Neutrophil Ab [Units/volume] in Serum                  44298\n",
      "Bicarbonate [Moles/volume] in Arterial blood           66760\n",
      "Hematocrit [Volume Fraction] of Blood                  41201\n",
      "Glucose [Moles/volume] in Serum or Plasma              52839\n",
      "Calcium [Moles/volume] in Serum or Plasma              60903\n",
      "Chloride [Moles/volume] in Blood                       36266\n",
      "Sodium [Moles/volume] in Serum or Plasma               36318\n",
      "C reactive protein [Mass/volume] in Serum or Plasma    46036\n",
      "Carbon dioxide [Partial pressure] in Venous blood      49880\n",
      "Oxygen [Partial pressure] in Venous blood              47535\n",
      "Albumin [Mass/volume] in Serum or Plasma               56555\n",
      "Bicarbonate [Moles/volume] in Venous blood             47498\n",
      "Oxygen [Partial pressure] in Arterial blood            66761\n",
      "Carbon dioxide [Partial pressure] in Arterial blood    66760\n",
      "Interleukin 6 [Mass/volume] in Body fluid              69246\n",
      "Magnesium [Moles/volume] in Blood                      57648\n",
      "Prothrombin time (PT)                                  61282\n",
      "Procalcitonin [Mass/volume] in Serum or Plasma         56415\n",
      "Lactate [Moles/volume] in Blood                        48999\n",
      "Creatinine [Mass/volume] in Blood                      43054\n",
      "Fibrinogen measurement                                 61336\n",
      "Bilirubin measurement                                  57808\n",
      "Partial thromboplastin time                            61333\n",
      " activated                                             44146\n",
      "Total white blood count                                44204\n",
      "Platelet count                                         62770\n",
      "White blood cell count                                 47280\n",
      "Blood venous pH                                        68937\n",
      "D-dimer level                                          66756\n",
      "Blood arterial pH                                      41830\n",
      "Hemoglobin [Moles/volume] in Blood                     44215\n",
      "Ionised calcium measurement                            69307\n",
      "dtype: int64\n",
      "\n",
      "\n",
      "measurement_meds_train.csv\n",
      "Columns: ['visit_occurrence_id', 'person_id', 'measurement_datetime', 'Systolic blood pressure', 'Diastolic blood pressure', 'Body temperature', 'Respiratory rate', 'Heart rate', 'Measurement of oxygen saturation at periphery', 'Oxygen/Gas total [Pure volume fraction] Inhaled gas']\n",
      "shape: (257749, 10)\n",
      "visit_occurrence_id                                         0\n",
      "person_id                                                   0\n",
      "measurement_datetime                                        0\n",
      "Systolic blood pressure                                217654\n",
      "Diastolic blood pressure                               217667\n",
      "Body temperature                                        53613\n",
      "Respiratory rate                                       174445\n",
      "Heart rate                                             160776\n",
      "Measurement of oxygen saturation at periphery          160932\n",
      "Oxygen/Gas total [Pure volume fraction] Inhaled gas    255702\n",
      "dtype: int64\n",
      "\n",
      "\n",
      "measurement_observation_train.csv\n",
      "Columns: ['visit_occurrence_id', 'person_id', 'measurement_datetime', 'Left pupil Diameter Auto', 'Right pupil Diameter Auto', 'Glasgow coma scale', 'Capillary refill [Time]', 'Pulse', 'Arterial pulse pressure', 'Right pupil Pupillary response', 'Left pupil Pupillary response']\n",
      "shape: (50553, 11)\n",
      "visit_occurrence_id                   0\n",
      "person_id                             0\n",
      "measurement_datetime                  0\n",
      "Left pupil Diameter Auto          20594\n",
      "Right pupil Diameter Auto         20485\n",
      "Glasgow coma scale                15448\n",
      "Capillary refill [Time]           45150\n",
      "Pulse                             45879\n",
      "Arterial pulse pressure           45607\n",
      "Right pupil Pupillary response    16666\n",
      "Left pupil Pupillary response     16711\n",
      "dtype: int64\n",
      "\n",
      "\n",
      "observation_train.csv\n",
      "Columns: ['visit_occurrence_id', 'person_id', 'observation_datetime', 'observation_concept_id', 'observation_concept_name', 'valuefilled']\n",
      "shape: (3807, 6)\n",
      "visit_occurrence_id         0\n",
      "person_id                   0\n",
      "observation_datetime        0\n",
      "observation_concept_id      0\n",
      "observation_concept_name    0\n",
      "valuefilled                 0\n",
      "dtype: int64\n",
      "\n",
      "\n",
      "person_demographics_episode_train.csv\n",
      "Columns: ['visit_occurrence_id', 'person_id', 'visit_start_date', 'birth_datetime', 'age_in_months', 'gender']\n",
      "shape: (3391, 6)\n",
      "visit_occurrence_id    0\n",
      "person_id              0\n",
      "visit_start_date       0\n",
      "birth_datetime         0\n",
      "age_in_months          0\n",
      "gender                 0\n",
      "dtype: int64\n",
      "\n",
      "\n",
      "proceduresoccurrences_train.csv\n",
      "Columns: ['visit_occurrence_id', 'procedure_datetime_hourly', 'person_id', 'procedure']\n",
      "shape: (771214, 4)\n",
      "visit_occurrence_id          0\n",
      "procedure_datetime_hourly    0\n",
      "person_id                    0\n",
      "procedure                    0\n",
      "dtype: int64\n",
      "\n",
      "\n",
      "SepsisLabel_train.csv\n",
      "Columns: ['person_id', 'measurement_datetime', 'SepsisLabel']\n",
      "shape: (331653, 3)\n",
      "person_id                0\n",
      "measurement_datetime    16\n",
      "SepsisLabel              0\n",
      "dtype: int64\n",
      "\n",
      "\n"
     ]
    }
   ],
   "source": [
    "get_col_name(\"./data/training_data\")"
   ]
  },
  {
   "cell_type": "code",
   "execution_count": 4,
   "metadata": {},
   "outputs": [],
   "source": [
    "measurement_lab_train=pd.read_csv(\"data/training_data/measurement_lab_train.csv\")\n",
    "measurement_meds_train=pd.read_csv(\"data/training_data/measurement_meds_train.csv\")\n",
    "measurement_observation_train=pd.read_csv(\"data/training_data/measurement_observation_train.csv\")"
   ]
  },
  {
   "cell_type": "code",
   "execution_count": 5,
   "metadata": {},
   "outputs": [],
   "source": [
    "df_preprocess=[measurement_lab_train, measurement_meds_train, measurement_observation_train]\n",
    "#  this was dumb i need to get the path though, like ??"
   ]
  },
  {
   "cell_type": "code",
   "execution_count": 6,
   "metadata": {},
   "outputs": [],
   "source": [
    "def clean(dataarray):\n",
    "    for df in dataarray:\n",
    "        for col in df.columns:\n",
    "            threshold=df.shape[0]* 0.5\n",
    "            print(threshold)\n",
    "            # now drop columns which exceed this threshold\n",
    "            if df[col].isnull().sum() > threshold:\n",
    "                df.drop(col, axis=1, inplace=True)"
   ]
  },
  {
   "cell_type": "code",
   "execution_count": 7,
   "metadata": {},
   "outputs": [
    {
     "name": "stdout",
     "output_type": "stream",
     "text": [
      "34653.5\n",
      "34653.5\n",
      "34653.5\n",
      "34653.5\n",
      "34653.5\n",
      "34653.5\n",
      "34653.5\n",
      "34653.5\n",
      "34653.5\n",
      "34653.5\n",
      "34653.5\n",
      "34653.5\n",
      "34653.5\n",
      "34653.5\n",
      "34653.5\n",
      "34653.5\n",
      "34653.5\n",
      "34653.5\n",
      "34653.5\n",
      "34653.5\n",
      "34653.5\n",
      "34653.5\n",
      "34653.5\n",
      "34653.5\n",
      "34653.5\n",
      "34653.5\n",
      "34653.5\n",
      "34653.5\n",
      "34653.5\n",
      "34653.5\n",
      "34653.5\n",
      "34653.5\n",
      "34653.5\n",
      "34653.5\n",
      "34653.5\n",
      "34653.5\n",
      "34653.5\n",
      "34653.5\n",
      "34653.5\n",
      "34653.5\n",
      "128874.5\n",
      "128874.5\n",
      "128874.5\n",
      "128874.5\n",
      "128874.5\n",
      "128874.5\n",
      "128874.5\n",
      "128874.5\n",
      "128874.5\n",
      "128874.5\n",
      "25276.5\n",
      "25276.5\n",
      "25276.5\n",
      "25276.5\n",
      "25276.5\n",
      "25276.5\n",
      "25276.5\n",
      "25276.5\n",
      "25276.5\n",
      "25276.5\n",
      "25276.5\n"
     ]
    }
   ],
   "source": [
    "data=clean(df_preprocess)"
   ]
  },
  {
   "cell_type": "code",
   "execution_count": 8,
   "metadata": {},
   "outputs": [
    {
     "data": {
      "text/plain": [
       "visit_occurrence_id     0\n",
       "person_id               0\n",
       "measurement_datetime    0\n",
       "dtype: int64"
      ]
     },
     "execution_count": 8,
     "metadata": {},
     "output_type": "execute_result"
    }
   ],
   "source": [
    "measurement_lab_train.isnull().sum()"
   ]
  },
  {
   "cell_type": "code",
   "execution_count": 9,
   "metadata": {},
   "outputs": [
    {
     "data": {
      "text/plain": [
       "(69307, 3)"
      ]
     },
     "execution_count": 9,
     "metadata": {},
     "output_type": "execute_result"
    }
   ],
   "source": [
    "measurement_lab_train.shape"
   ]
  },
  {
   "cell_type": "code",
   "execution_count": 10,
   "metadata": {},
   "outputs": [
    {
     "data": {
      "text/plain": [
       "Index(['visit_occurrence_id', 'person_id', 'measurement_datetime'], dtype='object')"
      ]
     },
     "execution_count": 10,
     "metadata": {},
     "output_type": "execute_result"
    }
   ],
   "source": [
    "measurement_lab_train.columns"
   ]
  },
  {
   "cell_type": "code",
   "execution_count": 11,
   "metadata": {},
   "outputs": [
    {
     "data": {
      "text/plain": [
       "visit_occurrence_id         0\n",
       "person_id                   0\n",
       "measurement_datetime        0\n",
       "Body temperature        53613\n",
       "dtype: int64"
      ]
     },
     "execution_count": 11,
     "metadata": {},
     "output_type": "execute_result"
    }
   ],
   "source": [
    "measurement_meds_train.isnull().sum()"
   ]
  },
  {
   "cell_type": "code",
   "execution_count": 12,
   "metadata": {},
   "outputs": [
    {
     "data": {
      "text/plain": [
       "visit_occurrence_id                   0\n",
       "person_id                             0\n",
       "measurement_datetime                  0\n",
       "Left pupil Diameter Auto          20594\n",
       "Right pupil Diameter Auto         20485\n",
       "Glasgow coma scale                15448\n",
       "Right pupil Pupillary response    16666\n",
       "Left pupil Pupillary response     16711\n",
       "dtype: int64"
      ]
     },
     "execution_count": 12,
     "metadata": {},
     "output_type": "execute_result"
    }
   ],
   "source": [
    "measurement_observation_train.isnull().sum()"
   ]
  },
  {
   "cell_type": "markdown",
   "metadata": {},
   "source": [
    "done as of now\n",
    "1. cleaned for null value columns greater than threshold\n",
    "\n",
    "to do\n",
    "1. empty but needs work\n",
    "2. merging now\n",
    "3. check class imbalance               |   feature engineering  |\n",
    "4. identify relations                  |       pca              |\n",
    "4. then standardize and normalize\n",
    "5. model"
   ]
  },
  {
   "cell_type": "code",
   "execution_count": 16,
   "metadata": {},
   "outputs": [
    {
     "name": "stdout",
     "output_type": "stream",
     "text": [
      "Index(['visit_occurrence_id', 'person_id', 'measurement_datetime'], dtype='object')\n",
      "Index(['visit_occurrence_id', 'person_id', 'measurement_datetime',\n",
      "       'Body temperature'],\n",
      "      dtype='object')\n",
      "Index(['visit_occurrence_id', 'person_id', 'measurement_datetime',\n",
      "       'Left pupil Diameter Auto', 'Right pupil Diameter Auto',\n",
      "       'Glasgow coma scale', 'Right pupil Pupillary response',\n",
      "       'Left pupil Pupillary response'],\n",
      "      dtype='object')\n"
     ]
    }
   ],
   "source": [
    "for df in df_preprocess:\n",
    "    print(df.columns)"
   ]
  },
  {
   "cell_type": "code",
   "execution_count": 17,
   "metadata": {},
   "outputs": [
    {
     "name": "stdout",
     "output_type": "stream",
     "text": [
      "(69307, 3)\n",
      "(257749, 4)\n",
      "(50553, 8)\n"
     ]
    }
   ],
   "source": [
    "print(measurement_lab_train.shape)\n",
    "print(measurement_meds_train.shape)\n",
    "print(measurement_observation_train.shape)"
   ]
  },
  {
   "cell_type": "code",
   "execution_count": 42,
   "metadata": {},
   "outputs": [],
   "source": [
    "df=pd.merge(measurement_lab_train,measurement_meds_train, on='measurement_datetime')"
   ]
  },
  {
   "cell_type": "code",
   "execution_count": 43,
   "metadata": {},
   "outputs": [
    {
     "data": {
      "text/plain": [
       "(388423, 6)"
      ]
     },
     "execution_count": 43,
     "metadata": {},
     "output_type": "execute_result"
    }
   ],
   "source": [
    "df.shape"
   ]
  },
  {
   "cell_type": "code",
   "execution_count": 44,
   "metadata": {},
   "outputs": [
    {
     "data": {
      "text/html": [
       "<div>\n",
       "<style scoped>\n",
       "    .dataframe tbody tr th:only-of-type {\n",
       "        vertical-align: middle;\n",
       "    }\n",
       "\n",
       "    .dataframe tbody tr th {\n",
       "        vertical-align: top;\n",
       "    }\n",
       "\n",
       "    .dataframe thead th {\n",
       "        text-align: right;\n",
       "    }\n",
       "</style>\n",
       "<table border=\"1\" class=\"dataframe\">\n",
       "  <thead>\n",
       "    <tr style=\"text-align: right;\">\n",
       "      <th></th>\n",
       "      <th>visit_occurrence_id_x</th>\n",
       "      <th>person_id_x</th>\n",
       "      <th>measurement_datetime</th>\n",
       "      <th>visit_occurrence_id_y</th>\n",
       "      <th>person_id_y</th>\n",
       "      <th>Body temperature</th>\n",
       "    </tr>\n",
       "  </thead>\n",
       "  <tbody>\n",
       "    <tr>\n",
       "      <th>0</th>\n",
       "      <td>933758</td>\n",
       "      <td>523870286</td>\n",
       "      <td>2023-12-06 17:00:00</td>\n",
       "      <td>79100592</td>\n",
       "      <td>1899919907</td>\n",
       "      <td>NaN</td>\n",
       "    </tr>\n",
       "    <tr>\n",
       "      <th>1</th>\n",
       "      <td>933758</td>\n",
       "      <td>523870286</td>\n",
       "      <td>2023-12-06 17:00:00</td>\n",
       "      <td>261193377</td>\n",
       "      <td>955975280</td>\n",
       "      <td>37.0</td>\n",
       "    </tr>\n",
       "    <tr>\n",
       "      <th>2</th>\n",
       "      <td>933758</td>\n",
       "      <td>523870286</td>\n",
       "      <td>2023-12-06 17:00:00</td>\n",
       "      <td>432719838</td>\n",
       "      <td>2040408449</td>\n",
       "      <td>35.5</td>\n",
       "    </tr>\n",
       "    <tr>\n",
       "      <th>3</th>\n",
       "      <td>933758</td>\n",
       "      <td>523870286</td>\n",
       "      <td>2023-12-06 17:00:00</td>\n",
       "      <td>535631978</td>\n",
       "      <td>228919787</td>\n",
       "      <td>NaN</td>\n",
       "    </tr>\n",
       "    <tr>\n",
       "      <th>4</th>\n",
       "      <td>933758</td>\n",
       "      <td>523870286</td>\n",
       "      <td>2023-12-06 17:00:00</td>\n",
       "      <td>554898922</td>\n",
       "      <td>1314502207</td>\n",
       "      <td>NaN</td>\n",
       "    </tr>\n",
       "  </tbody>\n",
       "</table>\n",
       "</div>"
      ],
      "text/plain": [
       "   visit_occurrence_id_x  person_id_x measurement_datetime  \\\n",
       "0                 933758    523870286  2023-12-06 17:00:00   \n",
       "1                 933758    523870286  2023-12-06 17:00:00   \n",
       "2                 933758    523870286  2023-12-06 17:00:00   \n",
       "3                 933758    523870286  2023-12-06 17:00:00   \n",
       "4                 933758    523870286  2023-12-06 17:00:00   \n",
       "\n",
       "   visit_occurrence_id_y  person_id_y  Body temperature  \n",
       "0               79100592   1899919907               NaN  \n",
       "1              261193377    955975280              37.0  \n",
       "2              432719838   2040408449              35.5  \n",
       "3              535631978    228919787               NaN  \n",
       "4              554898922   1314502207               NaN  "
      ]
     },
     "execution_count": 44,
     "metadata": {},
     "output_type": "execute_result"
    }
   ],
   "source": [
    "df.head()"
   ]
  },
  {
   "cell_type": "code",
   "execution_count": 45,
   "metadata": {},
   "outputs": [
    {
     "data": {
      "text/plain": [
       "visit_occurrence_id_x        0\n",
       "person_id_x                  0\n",
       "measurement_datetime         0\n",
       "visit_occurrence_id_y        0\n",
       "person_id_y                  0\n",
       "Body temperature         81260\n",
       "dtype: int64"
      ]
     },
     "execution_count": 45,
     "metadata": {},
     "output_type": "execute_result"
    }
   ],
   "source": [
    "df.isnull().sum()"
   ]
  },
  {
   "cell_type": "code",
   "execution_count": 46,
   "metadata": {},
   "outputs": [],
   "source": [
    "df.drop('Body temperature',axis=1,inplace=True)"
   ]
  },
  {
   "cell_type": "code",
   "execution_count": 49,
   "metadata": {},
   "outputs": [
    {
     "data": {
      "text/plain": [
       "visit_occurrence_id_x    0\n",
       "person_id_x              0\n",
       "measurement_datetime     0\n",
       "visit_occurrence_id_y    0\n",
       "person_id_y              0\n",
       "dtype: int64"
      ]
     },
     "execution_count": 49,
     "metadata": {},
     "output_type": "execute_result"
    }
   ],
   "source": [
    "df.isnull().sum()"
   ]
  },
  {
   "cell_type": "code",
   "execution_count": 50,
   "metadata": {},
   "outputs": [],
   "source": [
    "df=pd.merge(df,measurement_observation_train,on='measurement_datetime')"
   ]
  },
  {
   "cell_type": "code",
   "execution_count": 51,
   "metadata": {},
   "outputs": [
    {
     "data": {
      "text/plain": [
       "(537085, 12)"
      ]
     },
     "execution_count": 51,
     "metadata": {},
     "output_type": "execute_result"
    }
   ],
   "source": [
    "df.shape"
   ]
  },
  {
   "cell_type": "code",
   "execution_count": 52,
   "metadata": {},
   "outputs": [
    {
     "data": {
      "text/plain": [
       "visit_occurrence_id_x                  0\n",
       "person_id_x                            0\n",
       "measurement_datetime                   0\n",
       "visit_occurrence_id_y                  0\n",
       "person_id_y                            0\n",
       "visit_occurrence_id                    0\n",
       "person_id                              0\n",
       "Left pupil Diameter Auto          214909\n",
       "Right pupil Diameter Auto         213861\n",
       "Glasgow coma scale                185572\n",
       "Right pupil Pupillary response    165601\n",
       "Left pupil Pupillary response     164005\n",
       "dtype: int64"
      ]
     },
     "execution_count": 52,
     "metadata": {},
     "output_type": "execute_result"
    }
   ],
   "source": [
    "df.isnull().sum()"
   ]
  },
  {
   "cell_type": "code",
   "execution_count": 27,
   "metadata": {},
   "outputs": [
    {
     "data": {
      "text/html": [
       "<div>\n",
       "<style scoped>\n",
       "    .dataframe tbody tr th:only-of-type {\n",
       "        vertical-align: middle;\n",
       "    }\n",
       "\n",
       "    .dataframe tbody tr th {\n",
       "        vertical-align: top;\n",
       "    }\n",
       "\n",
       "    .dataframe thead th {\n",
       "        text-align: right;\n",
       "    }\n",
       "</style>\n",
       "<table border=\"1\" class=\"dataframe\">\n",
       "  <thead>\n",
       "    <tr style=\"text-align: right;\">\n",
       "      <th></th>\n",
       "      <th>visit_occurrence_id</th>\n",
       "      <th>person_id</th>\n",
       "      <th>measurement_datetime</th>\n",
       "      <th>Body temperature</th>\n",
       "      <th>Left pupil Diameter Auto</th>\n",
       "      <th>Right pupil Diameter Auto</th>\n",
       "      <th>Glasgow coma scale</th>\n",
       "      <th>Right pupil Pupillary response</th>\n",
       "      <th>Left pupil Pupillary response</th>\n",
       "    </tr>\n",
       "  </thead>\n",
       "  <tbody>\n",
       "    <tr>\n",
       "      <th>0</th>\n",
       "      <td>2322668</td>\n",
       "      <td>1553934216</td>\n",
       "      <td>2024-10-17 16:00:00</td>\n",
       "      <td>36.4</td>\n",
       "      <td>2.0</td>\n",
       "      <td>2.0</td>\n",
       "      <td>11.0</td>\n",
       "      <td>Normal</td>\n",
       "      <td>Normal</td>\n",
       "    </tr>\n",
       "    <tr>\n",
       "      <th>1</th>\n",
       "      <td>2512220</td>\n",
       "      <td>1938267364</td>\n",
       "      <td>2024-09-19 05:00:00</td>\n",
       "      <td>36.5</td>\n",
       "      <td>NaN</td>\n",
       "      <td>NaN</td>\n",
       "      <td>15.0</td>\n",
       "      <td>NaN</td>\n",
       "      <td>NaN</td>\n",
       "    </tr>\n",
       "    <tr>\n",
       "      <th>2</th>\n",
       "      <td>2512220</td>\n",
       "      <td>1938267364</td>\n",
       "      <td>2024-09-19 06:00:00</td>\n",
       "      <td>NaN</td>\n",
       "      <td>2.0</td>\n",
       "      <td>2.0</td>\n",
       "      <td>13.0</td>\n",
       "      <td>Normal</td>\n",
       "      <td>Normal</td>\n",
       "    </tr>\n",
       "    <tr>\n",
       "      <th>3</th>\n",
       "      <td>2512220</td>\n",
       "      <td>1938267364</td>\n",
       "      <td>2024-09-20 07:00:00</td>\n",
       "      <td>37.3</td>\n",
       "      <td>3.0</td>\n",
       "      <td>3.0</td>\n",
       "      <td>5.0</td>\n",
       "      <td>Sluggish</td>\n",
       "      <td>Sluggish</td>\n",
       "    </tr>\n",
       "    <tr>\n",
       "      <th>4</th>\n",
       "      <td>2512220</td>\n",
       "      <td>1938267364</td>\n",
       "      <td>2024-09-21 05:00:00</td>\n",
       "      <td>36.3</td>\n",
       "      <td>2.0</td>\n",
       "      <td>2.0</td>\n",
       "      <td>5.0</td>\n",
       "      <td>Sluggish</td>\n",
       "      <td>Sluggish</td>\n",
       "    </tr>\n",
       "  </tbody>\n",
       "</table>\n",
       "</div>"
      ],
      "text/plain": [
       "   visit_occurrence_id   person_id measurement_datetime  Body temperature  \\\n",
       "0              2322668  1553934216  2024-10-17 16:00:00              36.4   \n",
       "1              2512220  1938267364  2024-09-19 05:00:00              36.5   \n",
       "2              2512220  1938267364  2024-09-19 06:00:00               NaN   \n",
       "3              2512220  1938267364  2024-09-20 07:00:00              37.3   \n",
       "4              2512220  1938267364  2024-09-21 05:00:00              36.3   \n",
       "\n",
       "   Left pupil Diameter Auto  Right pupil Diameter Auto  Glasgow coma scale  \\\n",
       "0                       2.0                        2.0                11.0   \n",
       "1                       NaN                        NaN                15.0   \n",
       "2                       2.0                        2.0                13.0   \n",
       "3                       3.0                        3.0                 5.0   \n",
       "4                       2.0                        2.0                 5.0   \n",
       "\n",
       "  Right pupil Pupillary response Left pupil Pupillary response  \n",
       "0                         Normal                        Normal  \n",
       "1                            NaN                           NaN  \n",
       "2                         Normal                        Normal  \n",
       "3                       Sluggish                      Sluggish  \n",
       "4                       Sluggish                      Sluggish  "
      ]
     },
     "execution_count": 27,
     "metadata": {},
     "output_type": "execute_result"
    }
   ],
   "source": [
    "df.head()"
   ]
  },
  {
   "cell_type": "code",
   "execution_count": 28,
   "metadata": {},
   "outputs": [
    {
     "data": {
      "text/plain": [
       "visit_occurrence_id                  0\n",
       "person_id                            0\n",
       "measurement_datetime                 0\n",
       "Body temperature                   407\n",
       "Left pupil Diameter Auto          1388\n",
       "Right pupil Diameter Auto         1376\n",
       "Glasgow coma scale                1828\n",
       "Right pupil Pupillary response    1201\n",
       "Left pupil Pupillary response     1215\n",
       "dtype: int64"
      ]
     },
     "execution_count": 28,
     "metadata": {},
     "output_type": "execute_result"
    }
   ],
   "source": [
    "df.isnull().sum()"
   ]
  },
  {
   "cell_type": "code",
   "execution_count": 30,
   "metadata": {},
   "outputs": [
    {
     "data": {
      "text/plain": [
       "(4141, 9)"
      ]
     },
     "execution_count": 30,
     "metadata": {},
     "output_type": "execute_result"
    }
   ],
   "source": [
    "df.shape"
   ]
  },
  {
   "cell_type": "code",
   "execution_count": 32,
   "metadata": {},
   "outputs": [],
   "source": [
    "device=pd.read_csv(\"data/training_data/devices_train.csv\")\n",
    "drug=pd.read_csv(\"data/training_data/drugsexposure_train.csv\")\n",
    "observation=pd.read_csv(\"data/training_data/observation_train.csv\")\n",
    "demo=pd.read_csv(\"data/training_data/person_demographics_episode_train.csv\")\n",
    "procedure=pd.read_csv(\"data/training_data/proceduresoccurrences_train.csv\")\n",
    "label=pd.read_csv(\"data/training_data/SepsisLabel_train.csv\")"
   ]
  },
  {
   "cell_type": "code",
   "execution_count": 33,
   "metadata": {},
   "outputs": [
    {
     "data": {
      "text/plain": [
       "(331653, 3)"
      ]
     },
     "execution_count": 33,
     "metadata": {},
     "output_type": "execute_result"
    }
   ],
   "source": [
    "label.shape"
   ]
  },
  {
   "cell_type": "code",
   "execution_count": 34,
   "metadata": {},
   "outputs": [
    {
     "data": {
      "text/plain": [
       "Index(['person_id', 'measurement_datetime', 'SepsisLabel'], dtype='object')"
      ]
     },
     "execution_count": 34,
     "metadata": {},
     "output_type": "execute_result"
    }
   ],
   "source": [
    "label.columns"
   ]
  },
  {
   "cell_type": "code",
   "execution_count": 35,
   "metadata": {},
   "outputs": [
    {
     "data": {
      "text/html": [
       "<div>\n",
       "<style scoped>\n",
       "    .dataframe tbody tr th:only-of-type {\n",
       "        vertical-align: middle;\n",
       "    }\n",
       "\n",
       "    .dataframe tbody tr th {\n",
       "        vertical-align: top;\n",
       "    }\n",
       "\n",
       "    .dataframe thead th {\n",
       "        text-align: right;\n",
       "    }\n",
       "</style>\n",
       "<table border=\"1\" class=\"dataframe\">\n",
       "  <thead>\n",
       "    <tr style=\"text-align: right;\">\n",
       "      <th></th>\n",
       "      <th>person_id</th>\n",
       "      <th>measurement_datetime</th>\n",
       "      <th>SepsisLabel</th>\n",
       "    </tr>\n",
       "  </thead>\n",
       "  <tbody>\n",
       "    <tr>\n",
       "      <th>0</th>\n",
       "      <td>274096387</td>\n",
       "      <td>2024-12-03 20:00:00</td>\n",
       "      <td>0</td>\n",
       "    </tr>\n",
       "    <tr>\n",
       "      <th>1</th>\n",
       "      <td>1719359031</td>\n",
       "      <td>2024-04-20 09:00:00</td>\n",
       "      <td>0</td>\n",
       "    </tr>\n",
       "    <tr>\n",
       "      <th>2</th>\n",
       "      <td>2024544816</td>\n",
       "      <td>2021-07-14 07:00:00</td>\n",
       "      <td>0</td>\n",
       "    </tr>\n",
       "    <tr>\n",
       "      <th>3</th>\n",
       "      <td>213710896</td>\n",
       "      <td>2022-05-24 07:00:00</td>\n",
       "      <td>0</td>\n",
       "    </tr>\n",
       "    <tr>\n",
       "      <th>4</th>\n",
       "      <td>1335786468</td>\n",
       "      <td>2024-08-25 22:00:00</td>\n",
       "      <td>0</td>\n",
       "    </tr>\n",
       "  </tbody>\n",
       "</table>\n",
       "</div>"
      ],
      "text/plain": [
       "    person_id measurement_datetime  SepsisLabel\n",
       "0   274096387  2024-12-03 20:00:00            0\n",
       "1  1719359031  2024-04-20 09:00:00            0\n",
       "2  2024544816  2021-07-14 07:00:00            0\n",
       "3   213710896  2022-05-24 07:00:00            0\n",
       "4  1335786468  2024-08-25 22:00:00            0"
      ]
     },
     "execution_count": 35,
     "metadata": {},
     "output_type": "execute_result"
    }
   ],
   "source": [
    "label.head()"
   ]
  },
  {
   "cell_type": "code",
   "execution_count": null,
   "metadata": {},
   "outputs": [],
   "source": [
    "# at different date time it is different"
   ]
  }
 ],
 "metadata": {
  "kernelspec": {
   "display_name": "Python 3",
   "language": "python",
   "name": "python3"
  },
  "language_info": {
   "codemirror_mode": {
    "name": "ipython",
    "version": 3
   },
   "file_extension": ".py",
   "mimetype": "text/x-python",
   "name": "python",
   "nbconvert_exporter": "python",
   "pygments_lexer": "ipython3",
   "version": "3.12.3"
  }
 },
 "nbformat": 4,
 "nbformat_minor": 2
}
